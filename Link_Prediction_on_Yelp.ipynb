{
  "cells": [
    {
      "cell_type": "code",
      "execution_count": null,
      "metadata": {
        "colab": {
          "base_uri": "https://localhost:8080/"
        },
        "id": "uh7LaSzfwcj2",
        "outputId": "7b02e0fb-a8d7-473c-e12a-38d8dc58a4db"
      },
      "outputs": [
        {
          "output_type": "stream",
          "name": "stdout",
          "text": [
            "2.0.1+cu118\n"
          ]
        }
      ],
      "source": [
        "import torch\n",
        "from torch import Tensor\n",
        "print(torch.__version__)"
      ]
    },
    {
      "cell_type": "code",
      "execution_count": null,
      "metadata": {
        "id": "gdwbqAbndrP6"
      },
      "outputs": [],
      "source": [
        "import numpy as np\n",
        "import pickle\n",
        "import gzip\n",
        "import sys"
      ]
    },
    {
      "cell_type": "code",
      "execution_count": null,
      "metadata": {
        "colab": {
          "base_uri": "https://localhost:8080/"
        },
        "id": "41nn0LaRwNWf",
        "outputId": "928d90ec-333a-42d5-c6e6-17cb9663121a"
      },
      "outputs": [
        {
          "output_type": "stream",
          "name": "stdout",
          "text": [
            "0.0 MB\n"
          ]
        }
      ],
      "source": [
        "torch.cuda.empty_cache()\n",
        "print(torch.cuda.memory_allocated() / 1024**2, 'MB')"
      ]
    },
    {
      "cell_type": "code",
      "execution_count": null,
      "metadata": {
        "colab": {
          "base_uri": "https://localhost:8080/"
        },
        "id": "j7u60S6id-ID",
        "outputId": "30540aa0-7d06-40c7-d319-1896baa9a362"
      },
      "outputs": [
        {
          "output_type": "execute_result",
          "data": {
            "text/plain": [
              "0"
            ]
          },
          "metadata": {},
          "execution_count": 4
        }
      ],
      "source": [
        "import gc\n",
        "gc.collect()"
      ]
    },
    {
      "cell_type": "code",
      "execution_count": null,
      "metadata": {
        "colab": {
          "base_uri": "https://localhost:8080/"
        },
        "id": "AsWUrVh7vZtM",
        "outputId": "9f122c1f-3b17-4f67-bc88-75978da93b26"
      },
      "outputs": [
        {
          "output_type": "stream",
          "name": "stdout",
          "text": [
            "Looking in indexes: https://pypi.org/simple, https://us-python.pkg.dev/colab-wheels/public/simple/\n",
            "Looking in links: https://data.pyg.org/whl/torch-2.0.1+cu118.html\n",
            "Collecting torch-scatter\n",
            "  Downloading https://data.pyg.org/whl/torch-2.0.0%2Bcu118/torch_scatter-2.1.1%2Bpt20cu118-cp310-cp310-linux_x86_64.whl (10.2 MB)\n",
            "\u001b[2K     \u001b[90m━━━━━━━━━━━━━━━━━━━━━━━━━━━━━━━━━━━━━━━━\u001b[0m \u001b[32m10.2/10.2 MB\u001b[0m \u001b[31m63.8 MB/s\u001b[0m eta \u001b[36m0:00:00\u001b[0m\n",
            "\u001b[?25hInstalling collected packages: torch-scatter\n",
            "Successfully installed torch-scatter-2.1.1+pt20cu118\n",
            "Looking in indexes: https://pypi.org/simple, https://us-python.pkg.dev/colab-wheels/public/simple/\n",
            "Looking in links: https://data.pyg.org/whl/torch-2.0.1+cu118.html\n",
            "Collecting torch-sparse\n",
            "  Downloading https://data.pyg.org/whl/torch-2.0.0%2Bcu118/torch_sparse-0.6.17%2Bpt20cu118-cp310-cp310-linux_x86_64.whl (4.8 MB)\n",
            "\u001b[2K     \u001b[90m━━━━━━━━━━━━━━━━━━━━━━━━━━━━━━━━━━━━━━━━\u001b[0m \u001b[32m4.8/4.8 MB\u001b[0m \u001b[31m82.8 MB/s\u001b[0m eta \u001b[36m0:00:00\u001b[0m\n",
            "\u001b[?25hRequirement already satisfied: scipy in /usr/local/lib/python3.10/dist-packages (from torch-sparse) (1.10.1)\n",
            "Requirement already satisfied: numpy<1.27.0,>=1.19.5 in /usr/local/lib/python3.10/dist-packages (from scipy->torch-sparse) (1.22.4)\n",
            "Installing collected packages: torch-sparse\n",
            "Successfully installed torch-sparse-0.6.17+pt20cu118\n",
            "Looking in indexes: https://pypi.org/simple, https://us-python.pkg.dev/colab-wheels/public/simple/\n",
            "Looking in links: https://data.pyg.org/whl/nightly/torch-2.0.1+cu118.html\n",
            "Collecting pyg-lib\n",
            "  Downloading https://data.pyg.org/whl/nightly/torch-2.0.0%2Bcu118/pyg_lib-0.2.0.dev20230529%2Bpt20cu118-cp310-cp310-linux_x86_64.whl (2.1 MB)\n",
            "\u001b[2K     \u001b[90m━━━━━━━━━━━━━━━━━━━━━━━━━━━━━━━━━━━━━━━━\u001b[0m \u001b[32m2.1/2.1 MB\u001b[0m \u001b[31m4.6 MB/s\u001b[0m eta \u001b[36m0:00:00\u001b[0m\n",
            "\u001b[?25hInstalling collected packages: pyg-lib\n",
            "Successfully installed pyg-lib-0.2.0.dev20230529+pt20cu118\n",
            "Looking in indexes: https://pypi.org/simple, https://us-python.pkg.dev/colab-wheels/public/simple/\n",
            "Collecting git+https://github.com/pyg-team/pytorch_geometric.git\n",
            "  Cloning https://github.com/pyg-team/pytorch_geometric.git to /tmp/pip-req-build-agmvvdf4\n",
            "  Running command git clone --filter=blob:none --quiet https://github.com/pyg-team/pytorch_geometric.git /tmp/pip-req-build-agmvvdf4\n",
            "  Resolved https://github.com/pyg-team/pytorch_geometric.git to commit d8a651cf0f96c41168593565498734be0a931210\n",
            "  Installing build dependencies ... \u001b[?25l\u001b[?25hdone\n",
            "  Getting requirements to build wheel ... \u001b[?25l\u001b[?25hdone\n",
            "  Preparing metadata (pyproject.toml) ... \u001b[?25l\u001b[?25hdone\n",
            "Requirement already satisfied: tqdm in /usr/local/lib/python3.10/dist-packages (from torch_geometric==2.4.0) (4.65.0)\n",
            "Requirement already satisfied: numpy in /usr/local/lib/python3.10/dist-packages (from torch_geometric==2.4.0) (1.22.4)\n",
            "Requirement already satisfied: scipy in /usr/local/lib/python3.10/dist-packages (from torch_geometric==2.4.0) (1.10.1)\n",
            "Requirement already satisfied: jinja2 in /usr/local/lib/python3.10/dist-packages (from torch_geometric==2.4.0) (3.1.2)\n",
            "Requirement already satisfied: requests in /usr/local/lib/python3.10/dist-packages (from torch_geometric==2.4.0) (2.27.1)\n",
            "Requirement already satisfied: pyparsing in /usr/local/lib/python3.10/dist-packages (from torch_geometric==2.4.0) (3.0.9)\n",
            "Requirement already satisfied: scikit-learn in /usr/local/lib/python3.10/dist-packages (from torch_geometric==2.4.0) (1.2.2)\n",
            "Requirement already satisfied: psutil>=5.8.0 in /usr/local/lib/python3.10/dist-packages (from torch_geometric==2.4.0) (5.9.5)\n",
            "Requirement already satisfied: MarkupSafe>=2.0 in /usr/local/lib/python3.10/dist-packages (from jinja2->torch_geometric==2.4.0) (2.1.2)\n",
            "Requirement already satisfied: urllib3<1.27,>=1.21.1 in /usr/local/lib/python3.10/dist-packages (from requests->torch_geometric==2.4.0) (1.26.15)\n",
            "Requirement already satisfied: certifi>=2017.4.17 in /usr/local/lib/python3.10/dist-packages (from requests->torch_geometric==2.4.0) (2022.12.7)\n",
            "Requirement already satisfied: charset-normalizer~=2.0.0 in /usr/local/lib/python3.10/dist-packages (from requests->torch_geometric==2.4.0) (2.0.12)\n",
            "Requirement already satisfied: idna<4,>=2.5 in /usr/local/lib/python3.10/dist-packages (from requests->torch_geometric==2.4.0) (3.4)\n",
            "Requirement already satisfied: joblib>=1.1.1 in /usr/local/lib/python3.10/dist-packages (from scikit-learn->torch_geometric==2.4.0) (1.2.0)\n",
            "Requirement already satisfied: threadpoolctl>=2.0.0 in /usr/local/lib/python3.10/dist-packages (from scikit-learn->torch_geometric==2.4.0) (3.1.0)\n",
            "Building wheels for collected packages: torch_geometric\n",
            "  Building wheel for torch_geometric (pyproject.toml) ... \u001b[?25l\u001b[?25hdone\n",
            "  Created wheel for torch_geometric: filename=torch_geometric-2.4.0-py3-none-any.whl size=944288 sha256=f0d2efa21c15447282978ea955ebab479bac5ea22a29e566f68fc5fd2ba2f9b0\n",
            "  Stored in directory: /tmp/pip-ephem-wheel-cache-3sy4w3qc/wheels/d3/78/eb/9e26525b948d19533f1688fb6c209cec8a0ba793d39b49ae8f\n",
            "Successfully built torch_geometric\n",
            "Installing collected packages: torch_geometric\n",
            "Successfully installed torch_geometric-2.4.0\n"
          ]
        }
      ],
      "source": [
        "# Install required packages.\n",
        "import os\n",
        "os.environ['TORCH'] = torch.__version__\n",
        "\n",
        "!pip install torch-scatter -f https://data.pyg.org/whl/torch-${TORCH}.html\n",
        "!pip install torch-sparse -f https://data.pyg.org/whl/torch-${TORCH}.html\n",
        "!pip install pyg-lib -f https://data.pyg.org/whl/nightly/torch-${TORCH}.html\n",
        "!pip install git+https://github.com/pyg-team/pytorch_geometric.git"
      ]
    },
    {
      "cell_type": "markdown",
      "metadata": {
        "id": "vit8xKCiXAue"
      },
      "source": [
        "# Link Prediction on Yelp\n",
        "\n",
        "This colab notebook shows how to load a set of `*.csv` files as input and construct a heterogeneous graph from it.\n",
        "We will then use this dataset as input into a [heterogeneous graph model](https://pytorch-geometric.readthedocs.io/en/latest/notes/heterogeneous.html#hgtutorial), and use it for the task of link prediction.\n",
        "A few code cells require user input to let the code run through successfully.\n",
        "Parts of this tutorial are also available in [our documentation](https://pytorch-geometric.readthedocs.io/en/latest/notes/load_csv.html).\n",
        "\n",
        "We are going to use the [MovieLens dataset](https://grouplens.org/datasets/movielens/) collected by the GroupLens research group.\n",
        "This toy dataset describes ratings and tagging activity from MovieLens.\n",
        "The dataset contains approximately 100k ratings across more than 9k movies from more than 600 users.\n",
        "We are going to use this dataset to generate two node types holding data for movies and users, respectively, and one edge type connecting users and movies, representing the relation of whether a user has rated a specific movie.\n",
        "\n",
        "The link prediction task then tries to predict missing ratings, and can, for example, be used to recommend users new movies."
      ]
    },
    {
      "cell_type": "markdown",
      "metadata": {
        "id": "N_pshZh8Y3dw"
      },
      "source": [
        "## Heterogeneous Graph Creation\n",
        "\n",
        "First, we download the dataset to an arbitrary folder (in this case, the current directory):"
      ]
    },
    {
      "cell_type": "code",
      "execution_count": null,
      "metadata": {
        "id": "ciYr7NWEv5_o"
      },
      "outputs": [],
      "source": [
        "import torch_geometric\n",
        "from torch_geometric.data import download_url, extract_zip\n",
        "\n",
        "business_path = './business_pa1.csv.gz'\n",
        "reviews_path = './reviews_ph1.csv.gz'\n",
        "coor_path = './coor_df.csv.gz'"
      ]
    },
    {
      "cell_type": "markdown",
      "metadata": {
        "id": "B89RD_evY7uu"
      },
      "source": [
        "Before we create the heterogeneous graph, let’s take a look at the data."
      ]
    },
    {
      "cell_type": "code",
      "execution_count": null,
      "metadata": {
        "colab": {
          "base_uri": "https://localhost:8080/"
        },
        "id": "D6ixkcCOwCDi",
        "outputId": "6a3e5e00-de8e-447d-efb9-023253ae5517"
      },
      "outputs": [
        {
          "output_type": "stream",
          "name": "stdout",
          "text": [
            "business.csv:\n",
            "===========\n",
            "              business_id                                         categories\n",
            "0  MTSW4McQd7CbVtyjqoe9mw  Restaurants|Food|Bubble Tea|Coffee & Tea|Bakeries\n",
            "1  MUTTqe8uqyMdBl186RmNeA                    Sushi Bars|Restaurants|Japanese\n",
            "2  ROeacJQwBeh05Rqg7F6TCg                                 Korean|Restaurants\n",
            "3  aPNXGTDkf-4bjhyMBQxqpQ  Eatertainment|Arts & Entertainment|Brewpubs|Am...\n",
            "4  ppFCk9aQkM338Rgwpl2F5A  Restaurants|Automotive|Delis|Gas Stations|Food...\n",
            "\n",
            "reviews.csv:\n",
            "============\n",
            "                  user_id             business_id\n",
            "0  _7bHUi9Uuf5__HHc_Q8guQ  kxX2SOes4o-D3ZQBkiMRfA\n",
            "1  Dd1jQj7S-BFGqRbApFzCFw  YtSqYv1Q_pOltsVPSx54SA\n",
            "2  IQsF3Rc6IgCzjVV9DE8KXg  eFvzHawVJofxSnD7TgbZtg\n",
            "3  vrKkXsozqqecF3CW4cGaVQ  rjuWz_AD3WfXJc03AhIO_w\n",
            "4  aFa96pz67TwOFu4Weq5Agg  kq5Ghhh14r-eCxlVmlyd8w\n"
          ]
        }
      ],
      "source": [
        "import pandas as pd\n",
        "\n",
        "print('business.csv:')\n",
        "print('===========')\n",
        "print(pd.read_csv(business_path)[[\"business_id\", \"categories\"]].head())\n",
        "print()\n",
        "print('reviews.csv:')\n",
        "print('============')\n",
        "print(pd.read_csv(reviews_path)[[\"user_id\", \"business_id\"]].head())"
      ]
    },
    {
      "cell_type": "markdown",
      "metadata": {
        "id": "LgXipuWTZK39"
      },
      "source": [
        "We see that the `movies.csv` file provides two useful columns: `movieId` assigns a unique identifier to each movie, while the `genres` column represent genres of the given movie.\n",
        "We can make use of this column to define a feature representation that can be easily interpreted by machine learning models."
      ]
    },
    {
      "cell_type": "code",
      "execution_count": null,
      "metadata": {
        "colab": {
          "base_uri": "https://localhost:8080/"
        },
        "id": "dd_BJMNcwJ7k",
        "outputId": "cb1c493a-f240-4f00-b819-1cf3b24b8e9f"
      },
      "outputs": [
        {
          "output_type": "stream",
          "name": "stdout",
          "text": [
            "                        Restaurants  Food  Sushi Bars  Italian\n",
            "business_id                                                   \n",
            "MTSW4McQd7CbVtyjqoe9mw            1     1           0        0\n",
            "MUTTqe8uqyMdBl186RmNeA            1     0           1        0\n",
            "ROeacJQwBeh05Rqg7F6TCg            1     0           0        0\n",
            "aPNXGTDkf-4bjhyMBQxqpQ            1     1           0        0\n",
            "ppFCk9aQkM338Rgwpl2F5A            1     1           0        0\n"
          ]
        }
      ],
      "source": [
        "# Load the entire business data frame into memory:\n",
        "business_df = pd.read_csv(business_path, index_col='business_id')\n",
        "\n",
        "# Split categories and convert into indicator variables:\n",
        "categories = business_df['categories'].str.get_dummies('|')\n",
        "print(categories[[\"Restaurants\", \"Food\", \"Sushi Bars\", \"Italian\"]].head())\n",
        "\n",
        "# Use categories as business input features:\n",
        "business_feat = torch.from_numpy(categories.values).to(torch.float)\n",
        "assert business_feat.size() == (8148, 957)  # 957 categories in total."
      ]
    },
    {
      "cell_type": "markdown",
      "metadata": {
        "id": "KLaDBVP4plsS"
      },
      "source": [
        "The `ratings.csv` data connects users (as given by `userId`) and movies (as given by `movieId`).\n",
        "Due to simplicity, we do not make use of the additional `timestamp` and `rating` information.\n",
        "Here, we first read the `*.csv` file from disk, and create a mapping that maps entry IDs to a consecutive value in the range `{ 0, ..., num_rows - 1 }`.\n",
        "This is needed as we want our final data representation to be as compact as possible, *e.g.*, the representation of a movie in the first row should be accessible via `x[0]`.\n",
        "\n",
        "Afterwards, we obtain the final `edge_index` representation of shape `[2, num_ratings]` from `ratings.csv` by merging mapped user and movie indices with the raw indices given by the original data frame."
      ]
    },
    {
      "cell_type": "code",
      "execution_count": null,
      "metadata": {
        "colab": {
          "base_uri": "https://localhost:8080/"
        },
        "id": "JMGYv83WzSRr",
        "outputId": "2b4c5648-9858-4fb8-d6fc-9bd1b3634556"
      },
      "outputs": [
        {
          "output_type": "stream",
          "name": "stdout",
          "text": [
            "Mapping of user IDs to consecutive values:\n",
            "==========================================\n",
            "                  user_id  mappedID\n",
            "0  _7bHUi9Uuf5__HHc_Q8guQ         0\n",
            "1  Dd1jQj7S-BFGqRbApFzCFw         1\n",
            "2  IQsF3Rc6IgCzjVV9DE8KXg         2\n",
            "3  vrKkXsozqqecF3CW4cGaVQ         3\n",
            "4  aFa96pz67TwOFu4Weq5Agg         4\n",
            "\n",
            "Mapping of business IDs to consecutive values:\n",
            "===========================================\n",
            "              business_id  mappedID\n",
            "0  MTSW4McQd7CbVtyjqoe9mw         0\n",
            "1  MUTTqe8uqyMdBl186RmNeA         1\n",
            "2  ROeacJQwBeh05Rqg7F6TCg         2\n",
            "3  aPNXGTDkf-4bjhyMBQxqpQ         3\n",
            "4  ppFCk9aQkM338Rgwpl2F5A         4\n",
            "\n",
            "Final edge indices pointing from users to busness:\n",
            "=================================================\n",
            "tensor([[     0,      1,      2,  ...,  39627, 232201,    633],\n",
            "        [   346,    638,    261,  ...,   7673,   7790,   7976]])\n"
          ]
        }
      ],
      "source": [
        "# Load the entire ratings data frame into memory:\n",
        "reviews_df = pd.read_csv(reviews_path)\n",
        "\n",
        "# Create a mapping from unique user indices to range [0, num_user_nodes):\n",
        "unique_user_id = reviews_df['user_id'].unique()\n",
        "unique_user_id = pd.DataFrame(data={\n",
        "    'user_id': unique_user_id,\n",
        "    'mappedID': pd.RangeIndex(len(unique_user_id)),\n",
        "})\n",
        "\n",
        "\n",
        "print(\"Mapping of user IDs to consecutive values:\")\n",
        "print(\"==========================================\")\n",
        "print(unique_user_id.head())\n",
        "print()\n",
        "# Create a mapping from unique movie indices to range [0, num_movie_nodes):\n",
        "unique_business_id = pd.DataFrame(data={\n",
        "    'business_id': business_df.index,\n",
        "    'mappedID': pd.RangeIndex(len(business_df)),\n",
        "})\n",
        "\n",
        "\n",
        "print(\"Mapping of business IDs to consecutive values:\")\n",
        "print(\"===========================================\")\n",
        "print(unique_business_id.head())\n",
        "\n",
        "# Perform merge to obtain the edges from users and movies:\n",
        "ratings_user_id = pd.merge(reviews_df['user_id'], unique_user_id,\n",
        "                            left_on='user_id', right_on='user_id', how='left')\n",
        "ratings_user_id = torch.from_numpy(ratings_user_id['mappedID'].values)\n",
        "ratings_business_id = pd.merge(reviews_df['business_id'], unique_business_id,\n",
        "                            left_on='business_id', right_on='business_id', how='left')\n",
        "ratings_business_id = torch.from_numpy(ratings_business_id['mappedID'].values)\n",
        "\n",
        "# With this, we are ready to construct our `edge_index` in COO format\n",
        "# following PyG semantics:\n",
        "edge_index_user_to_business = torch.stack([ratings_user_id, ratings_business_id], dim=0)\n",
        "\n",
        "assert edge_index_user_to_business.size() == (2,694647)\n",
        "\n",
        "print()\n",
        "print(\"Final edge indices pointing from users to busness:\")\n",
        "print(\"=================================================\")\n",
        "print(edge_index_user_to_business)"
      ]
    },
    {
      "cell_type": "code",
      "execution_count": null,
      "metadata": {
        "colab": {
          "base_uri": "https://localhost:8080/"
        },
        "id": "CPORtHuuBV8U",
        "outputId": "1357f61f-d06b-42fc-df6c-02bbd14486a3"
      },
      "outputs": [
        {
          "output_type": "stream",
          "name": "stdout",
          "text": [
            "0\n"
          ]
        }
      ],
      "source": [
        "print(len(set(reviews_df['business_id'].unique()).difference(business_df.index.values)))\n",
        "assert(len(set(reviews_df['business_id'].unique()).difference(business_df.index.values)) == 0)"
      ]
    },
    {
      "cell_type": "markdown",
      "metadata": {
        "id": "9w9fCnjvqmd2"
      },
      "source": [
        "With this, we are ready to initialize our `HeteroData` object and pass the necessary information to it.\n",
        "Note that we also pass in a `node_id` vector to each node type in order to reconstruct the original node indices from sampled subgraphs.\n",
        "We also take care of adding reverse edges to the `HeteroData` object.\n",
        "This allows our GNN model to use both directions of the edge for message passing:"
      ]
    },
    {
      "cell_type": "code",
      "execution_count": null,
      "metadata": {
        "id": "OlNDO4z7YUDX"
      },
      "outputs": [],
      "source": [
        "from torch_geometric.data import HeteroData\n",
        "import torch_geometric.transforms as T"
      ]
    },
    {
      "cell_type": "code",
      "execution_count": null,
      "metadata": {
        "colab": {
          "base_uri": "https://localhost:8080/"
        },
        "id": "I_63--974srt",
        "outputId": "12d148cd-978c-40a2-b538-bc75d2b98ab8"
      },
      "outputs": [
        {
          "output_type": "stream",
          "name": "stdout",
          "text": [
            "HeteroData(\n",
            "  user_id={ node_id=[232202] },\n",
            "  business_id={\n",
            "    node_id=[8148],\n",
            "    x=[8148, 957],\n",
            "  },\n",
            "  (user_id, stars, business_id)={ edge_index=[2, 694647] },\n",
            "  (business_id, rev_stars, user_id)={ edge_index=[2, 694647] }\n",
            ")\n"
          ]
        }
      ],
      "source": [
        "data = HeteroData()\n",
        "\n",
        "# Save node indices:\n",
        "\n",
        "data[\"user_id\"].node_id = torch.arange(len(unique_user_id))\n",
        "data[\"business_id\"].node_id = torch.arange(len(business_df))\n",
        "\n",
        "# Add the node features and edge indices:\n",
        "\n",
        "data[\"business_id\"].x =business_feat\n",
        "data[\"user_id\", \"stars\", \"business_id\"].edge_index = edge_index_user_to_business\n",
        "\n",
        "#to make sure to add the reverse edges from movies to users\n",
        "# in order to let a GNN be able to pass messages in both directions.\n",
        "# We can leverage the `T.ToUndirected()` transform for this from PyG:\n",
        "\n",
        "data = T.ToUndirected()(data)\n",
        "\n",
        "print(data)\n",
        "\n",
        "assert data.node_types == [\"user_id\", \"business_id\"]\n",
        "\n",
        "assert data.edge_types == [(\"user_id\", \"stars\", \"business_id\"),(\"business_id\", \"rev_stars\", \"user_id\")]\n",
        "\n",
        "assert data[\"user_id\"].num_nodes == 232202\n",
        "assert data[\"user_id\"].num_features == 0\n",
        "assert data[\"business_id\"].num_nodes == 8148\n",
        "assert data[\"business_id\"].num_features == 957\n",
        "assert data[\"user_id\", \"stars\", \"business_id\"].num_edges ==694647\n",
        "assert data[\"business_id\", \"rev_stars\", \"user_id\"].num_edges == 694647"
      ]
    },
    {
      "cell_type": "markdown",
      "source": [
        "In questa versione aggiungo anche le coordinate spaziali"
      ],
      "metadata": {
        "id": "WOfU-0LV49x3"
      }
    },
    {
      "cell_type": "code",
      "source": [
        "from torch_geometric.data import HeteroData\n",
        "import torch\n",
        "\n",
        "# Load the entire business data frame into memory:\n",
        "business_df = pd.read_csv(business_path, index_col='business_id')\n",
        "\n",
        "# Split categories and convert into indicator variables:\n",
        "categories = business_df['categories'].str.get_dummies('|')\n",
        "business_feat = torch.from_numpy(categories.values).to(torch.float)\n",
        "\n",
        "# Load the entire ratings data frame into memory:\n",
        "reviews_df = pd.read_csv(reviews_path)\n",
        "\n",
        "# Load coordinate:\n",
        "\n",
        "coor_df= pd.read_csv(coor_path)\n",
        "\n",
        "# Create a mapping from unique user indices to range [0, num_user_nodes):\n",
        "unique_user_id = reviews_df['user_id'].unique()\n",
        "unique_user_id = pd.DataFrame(data={\n",
        "    'user_id': unique_user_id,\n",
        "    'mappedID': pd.RangeIndex(len(unique_user_id)),\n",
        "})\n",
        "\n",
        "# Create a mapping from unique business indices to range [0, num_business_nodes):\n",
        "unique_business_id = pd.DataFrame(data={\n",
        "    'business_id': business_df.index,\n",
        "    'mappedID': pd.RangeIndex(len(business_df)),\n",
        "})\n",
        "\n",
        "# Perform merge to obtain the edges from users and businesses:\n",
        "ratings_user_id = pd.merge(reviews_df['user_id'], unique_user_id,\n",
        "                            left_on='user_id', right_on='user_id', how='left')\n",
        "ratings_user_id = torch.from_numpy(ratings_user_id['mappedID'].values)\n",
        "ratings_business_id = pd.merge(reviews_df['business_id'], unique_business_id,\n",
        "                            left_on='business_id', right_on='business_id', how='left')\n",
        "ratings_business_id = torch.from_numpy(ratings_business_id['mappedID'].values)\n",
        "\n",
        "# With this, we are ready to construct our `edge_index` in COO format\n",
        "# following PyG semantics:\n",
        "edge_index_user_to_business = torch.stack([ratings_user_id, ratings_business_id], dim=0)\n",
        "\n",
        "# Extract the unique user coordinates\n",
        "unique_user_coor_df = coor_df.drop_duplicates(subset=['user_id'])[['user_id', 'user_latitude', 'user_longitude']]\n",
        "user_coor = unique_user_coor_df[[\"user_latitude\", \"user_longitude\"]].values\n",
        "\n",
        "# Extract the unique business coordinates\n",
        "business_coor = business_df[[\"latitude\", \"longitude\"]].values\n",
        "\n",
        "# Create the HeteroData object with node features, edge indices, and coordinate tensors\n",
        "data = HeteroData()\n",
        "\n",
        "# Save node indices\n",
        "data[\"user_id\"].node_id = torch.arange(len(unique_user_id))\n",
        "data[\"business_id\"].node_id = torch.arange(len(business_df))\n",
        "\n",
        "# Add the node features and edge indices\n",
        "data[\"business_id\"].x = business_feat\n",
        "data[\"user_id\", \"stars\", \"business_id\"].edge_index = edge_index_user_to_business\n",
        "\n",
        "# Add coordinate tensors\n",
        "data[\"user_id\"].pos = torch.tensor(user_coor, dtype=torch.float)\n",
        "data[\"business_id\"].pos = torch.tensor(business_coor, dtype=torch.float)\n",
        "\n",
        "# Apply the ToUndirected transform\n",
        "data = T.ToUndirected()(data)\n",
        "\n",
        "\n",
        "print(data)\n",
        "\n",
        "assert data.node_types == [\"user_id\", \"business_id\"]\n",
        "\n",
        "assert data.edge_types == [(\"user_id\", \"stars\", \"business_id\"),(\"business_id\", \"rev_stars\", \"user_id\")]\n",
        "\n",
        "assert data[\"user_id\"].num_nodes == 232202\n",
        "assert data[\"user_id\"].num_features == 0\n",
        "assert data[\"business_id\"].num_nodes == 8148\n",
        "assert data[\"business_id\"].num_features == 957\n",
        "assert data[\"user_id\", \"stars\", \"business_id\"].num_edges ==694647\n",
        "assert data[\"business_id\", \"rev_stars\", \"user_id\"].num_edges == 694647"
      ],
      "metadata": {
        "colab": {
          "base_uri": "https://localhost:8080/"
        },
        "id": "RDiekQvw488m",
        "outputId": "5cf9f721-dbf6-4e7a-f22f-fea69cc69a7a"
      },
      "execution_count": null,
      "outputs": [
        {
          "output_type": "stream",
          "name": "stdout",
          "text": [
            "HeteroData(\n",
            "  user_id={\n",
            "    node_id=[232202],\n",
            "    pos=[232202, 2],\n",
            "  },\n",
            "  business_id={\n",
            "    node_id=[8148],\n",
            "    x=[8148, 957],\n",
            "    pos=[8148, 2],\n",
            "  },\n",
            "  (user_id, stars, business_id)={ edge_index=[2, 694647] },\n",
            "  (business_id, rev_stars, user_id)={ edge_index=[2, 694647] }\n",
            ")\n"
          ]
        }
      ]
    },
    {
      "cell_type": "markdown",
      "metadata": {
        "id": "2QGdkLAurBq9"
      },
      "source": [
        "## Defining Edge-level Training Splits\n",
        "\n",
        "Since our data is now ready-to-be-used, we can split the ratings of users into training, validation, and test splits.\n",
        "This is needed in order to ensure that we leak no information about edges used during evaluation into the training phase.\n",
        "For this, we make use of the [`transforms.RandomLinkSplit`](https://pytorch-geometric.readthedocs.io/en/latest/modules/transforms.html#torch_geometric.transforms.RandomLinkSplit) transformation from PyG.\n",
        "This transforms randomly divides the edges in the `(\"user\", \"rates\", \"movie\")` into training, validation and test edges.\n",
        "The `disjoint_train_ratio` parameter further separates edges in the training split into edges used for message passing (`edge_index`) and edges used for supervision (`edge_label_index`).\n",
        "Note that we also need to specify the reverse edge type `(\"movie\", \"rev_rates\", \"user\")`.\n",
        "This allows the `RandomLinkSplit` transform to drop reverse edges accordingly to not leak any information into the training phase."
      ]
    },
    {
      "cell_type": "code",
      "execution_count": null,
      "metadata": {
        "colab": {
          "base_uri": "https://localhost:8080/"
        },
        "id": "rwgNwoa26Eja",
        "outputId": "d5a9fba8-bf9e-46c7-aea9-479ec220af0b"
      },
      "outputs": [
        {
          "output_type": "stream",
          "name": "stdout",
          "text": [
            "Training data:\n",
            "==============\n",
            "HeteroData(\n",
            "  user_id={\n",
            "    node_id=[232202],\n",
            "    pos=[232202, 2],\n",
            "  },\n",
            "  business_id={\n",
            "    node_id=[8148],\n",
            "    x=[8148, 957],\n",
            "    pos=[8148, 2],\n",
            "  },\n",
            "  (user_id, stars, business_id)={\n",
            "    edge_index=[2, 389004],\n",
            "    edge_label=[166715],\n",
            "    edge_label_index=[2, 166715],\n",
            "  },\n",
            "  (business_id, rev_stars, user_id)={ edge_index=[2, 389004] }\n",
            ")\n",
            "\n",
            "Validation data:\n",
            "================\n",
            "HeteroData(\n",
            "  user_id={\n",
            "    node_id=[232202],\n",
            "    pos=[232202, 2],\n",
            "  },\n",
            "  business_id={\n",
            "    node_id=[8148],\n",
            "    x=[8148, 957],\n",
            "    pos=[8148, 2],\n",
            "  },\n",
            "  (user_id, stars, business_id)={\n",
            "    edge_index=[2, 555719],\n",
            "    edge_label=[208392],\n",
            "    edge_label_index=[2, 208392],\n",
            "  },\n",
            "  (business_id, rev_stars, user_id)={ edge_index=[2, 555719] }\n",
            ")\n",
            "Test data:\n",
            "================\n",
            "HeteroData(\n",
            "  user_id={\n",
            "    node_id=[232202],\n",
            "    pos=[232202, 2],\n",
            "  },\n",
            "  business_id={\n",
            "    node_id=[8148],\n",
            "    x=[8148, 957],\n",
            "    pos=[8148, 2],\n",
            "  },\n",
            "  (user_id, stars, business_id)={\n",
            "    edge_index=[2, 625183],\n",
            "    edge_label=[208392],\n",
            "    edge_label_index=[2, 208392],\n",
            "  },\n",
            "  (business_id, rev_stars, user_id)={ edge_index=[2, 625183] }\n",
            ")\n"
          ]
        }
      ],
      "source": [
        "# For this, we first split the set of edges into\n",
        "# training (80%), validation (10%), and testing edges (10%).\n",
        "# Across the training edges, we use 70% of edges for message passing,\n",
        "# and 30% of edges for supervision.\n",
        "# We further want to generate fixed negative edges for evaluation with a ratio of 2:1.\n",
        "# Negative edges during training will be generated on-the-fly.\n",
        "# We can leverage the `RandomLinkSplit()` transform for this from PyG:\n",
        "\n",
        "transform = T.RandomLinkSplit(\n",
        "    num_val=0.1,\n",
        "    num_test=0.1,\n",
        "    disjoint_train_ratio= 0.3,\n",
        "    neg_sampling_ratio=2,\n",
        "    add_negative_train_samples=False,\n",
        "    edge_types=(\"user_id\", \"stars\", \"business_id\"),\n",
        "    rev_edge_types=(\"business_id\", \"rev_stars\", \"user_id\"), \n",
        ")\n",
        "\n",
        "train_data, val_data, test_data = transform(data)\n",
        "\n",
        "print(\"Training data:\")\n",
        "print(\"==============\")\n",
        "print(train_data)\n",
        "print()\n",
        "print(\"Validation data:\")\n",
        "print(\"================\")\n",
        "print(val_data)\n",
        "print(\"Test data:\")\n",
        "print(\"================\")\n",
        "print(test_data)\n",
        "\n",
        "assert train_data[\"user_id\", \"stars\", \"business_id\"].num_edges == 389004\n",
        "assert train_data[\"user_id\", \"stars\", \"business_id\"].edge_label_index.size(1) == 166715\n",
        "assert train_data[\"business_id\", \"rev_stars\", \"user_id\"].num_edges == 389004\n",
        "# No negative edges added:\n",
        "\n",
        "assert train_data[\"user_id\", \"stars\", \"business_id\"].edge_label.min() == 1  \n",
        "assert train_data[\"user_id\", \"stars\", \"business_id\"].edge_label.max() == 1\n",
        "\n",
        "assert val_data[\"user_id\", \"stars\", \"business_id\"].num_edges == 555719\n",
        "assert val_data[\"user_id\", \"stars\", \"business_id\"].edge_label_index.size(1) == 208392 \n",
        "assert val_data[\"business_id\", \"rev_stars\", \"user_id\"].num_edges == 555719\n",
        "\n",
        "# Negative edges with ratio 2:1:\n",
        "\n",
        "assert val_data[\"user_id\", \"stars\", \"business_id\"].edge_label.long().bincount().tolist() == [138928, 69464]"
      ]
    },
    {
      "cell_type": "markdown",
      "metadata": {
        "id": "prKLwq6RsYoh"
      },
      "source": [
        "## Defining Mini-batch Loaders\n",
        "\n",
        "We are now ready to create a mini-batch loader that will generate subgraphs that can be used as input into our GNN.\n",
        "While this step is not strictly necessary for small-scale graphs, it is absolutely necessary to apply GNNs on larger graphs that do not fit onto GPU memory otherwise.\n",
        "Here, we make use of the [`loader.LinkNeighborLoader`](https://pytorch-geometric.readthedocs.io/en/latest/modules/loader.html#torch_geometric.loader.LinkNeighborLoader) which samples multiple hops from both ends of a link and creates a subgraph from it.\n",
        "Here, `edge_label_index` serves as the \"seed links\" to start sampling from."
      ]
    },
    {
      "cell_type": "code",
      "execution_count": null,
      "metadata": {
        "id": "Ogh615ka9I2c"
      },
      "outputs": [],
      "source": [
        "# In the first hop, we sample at most 20 neighbors.\n",
        "# In the second hop, we sample at most 10 neighbors.\n",
        "# In addition, during training, we want to sample negative edges on-the-fly with\n",
        "# a ratio of 2:1.\n",
        "# We can make use of the `loader.LinkNeighborLoader` from PyG:\n",
        "\n",
        "from torch_geometric.loader import LinkNeighborLoader\n",
        "\n",
        "# Define seed edges:\n",
        "edge_label_index = train_data[\"user_id\", \"stars\", \"business_id\"].edge_label_index\n",
        "edge_label = train_data[\"user_id\", \"stars\", \"business_id\"].edge_label\n",
        "\n",
        "train_loader = LinkNeighborLoader(\n",
        "    data=train_data,\n",
        "    num_neighbors=[20,10],\n",
        "    neg_sampling_ratio=2.0,\n",
        "    edge_label_index=((\"user_id\", \"stars\", \"business_id\"), edge_label_index),\n",
        "    edge_label=edge_label,\n",
        "    batch_size=128,\n",
        "    shuffle=True,\n",
        "    )\n"
      ]
    },
    {
      "cell_type": "code",
      "execution_count": null,
      "metadata": {
        "colab": {
          "base_uri": "https://localhost:8080/"
        },
        "id": "ocwBdHuXar-i",
        "outputId": "2b9a535a-dd4f-4108-b249-0d8d6094d447"
      },
      "outputs": [
        {
          "output_type": "stream",
          "name": "stdout",
          "text": [
            "Sampled mini-batch:\n",
            "===================\n",
            "HeteroData(\n",
            "  user_id={\n",
            "    node_id=[11525],\n",
            "    pos=[11525, 2],\n",
            "    n_id=[11525],\n",
            "  },\n",
            "  business_id={\n",
            "    node_id=[4602],\n",
            "    x=[4602, 957],\n",
            "    pos=[4602, 2],\n",
            "    n_id=[4602],\n",
            "  },\n",
            "  (user_id, stars, business_id)={\n",
            "    edge_index=[2, 13386],\n",
            "    edge_label=[384],\n",
            "    edge_label_index=[2, 384],\n",
            "    e_id=[13386],\n",
            "    input_id=[128],\n",
            "  },\n",
            "  (business_id, rev_stars, user_id)={\n",
            "    edge_index=[2, 23760],\n",
            "    e_id=[23760],\n",
            "  }\n",
            ")\n"
          ]
        }
      ],
      "source": [
        "# Inspect a sample:\n",
        "sampled_data = next(iter(train_loader))\n",
        "\n",
        "print(\"Sampled mini-batch:\")\n",
        "print(\"===================\")\n",
        "print(sampled_data)\n",
        "\n",
        "assert sampled_data[\"user_id\", \"stars\", \"business_id\"].edge_label_index.size(1) == 3 * 128\n",
        "assert sampled_data[\"user_id\", \"stars\", \"business_id\"].edge_label.min() == 0\n",
        "assert sampled_data[\"user_id\", \"stars\", \"business_id\"].edge_label.max() == 1 "
      ]
    },
    {
      "cell_type": "markdown",
      "metadata": {
        "id": "Yq-I2xaYueF0"
      },
      "source": [
        "## Evaluating a Heterogeneous Link-level GNN\n",
        "\n",
        "After training, we evaluate our model on useen data coming from the validation set.\n",
        "For this, we define a new `LinkNeighborLoader` (which now iterates over the edges in the validation set), obtain the predictions on validation edges by running the model, and finally evaluate the performance of the model by computing the AUC score over the set of predictions and their corresponding ground-truth edges (including both positive and negative edges)."
      ]
    },
    {
      "cell_type": "code",
      "execution_count": null,
      "metadata": {
        "colab": {
          "base_uri": "https://localhost:8080/"
        },
        "id": "ZIrRn9YoNllj",
        "outputId": "ce138aef-386a-43a2-83ad-b6cd05ebf628"
      },
      "outputs": [
        {
          "output_type": "stream",
          "name": "stdout",
          "text": [
            "Sampled mini-batch:\n",
            "===================\n",
            "HeteroData(\n",
            "  user_id={\n",
            "    node_id=[16387],\n",
            "    pos=[16387, 2],\n",
            "    n_id=[16387],\n",
            "  },\n",
            "  business_id={\n",
            "    node_id=[4882],\n",
            "    x=[4882, 957],\n",
            "    pos=[4882, 2],\n",
            "    n_id=[4882],\n",
            "  },\n",
            "  (user_id, stars, business_id)={\n",
            "    edge_index=[2, 20635],\n",
            "    edge_label=[384],\n",
            "    edge_label_index=[2, 384],\n",
            "    e_id=[20635],\n",
            "    input_id=[384],\n",
            "  },\n",
            "  (business_id, rev_stars, user_id)={\n",
            "    edge_index=[2, 32623],\n",
            "    e_id=[32623],\n",
            "  }\n",
            ")\n"
          ]
        }
      ],
      "source": [
        "# Define the validation seed edges:\n",
        "edge_label_index = val_data[\"user_id\", \"stars\", \"business_id\"].edge_label_index\n",
        "edge_label = val_data[\"user_id\", \"stars\", \"business_id\"].edge_label\n",
        "\n",
        "val_loader = LinkNeighborLoader(\n",
        "    data=val_data,\n",
        "    num_neighbors=[20, 10],\n",
        "    edge_label_index=((\"user_id\", \"stars\", \"business_id\"), edge_label_index),\n",
        "    edge_label=edge_label,\n",
        "    batch_size=3 * 128,\n",
        "    shuffle=False,\n",
        ")\n",
        "\n",
        "sampled_data1= next(iter(val_loader))\n",
        "\n",
        "print(\"Sampled mini-batch:\")\n",
        "print(\"===================\")\n",
        "print(sampled_data1)\n",
        "\n",
        "\n",
        "assert sampled_data1[\"user_id\", \"stars\", \"business_id\"].edge_label_index.size(1) == 3 * 128\n",
        "assert sampled_data1[\"user_id\", \"stars\", \"business_id\"].edge_label.min() >= 0\n",
        "assert sampled_data1[\"user_id\", \"stars\", \"business_id\"].edge_label.max() <= 1"
      ]
    },
    {
      "cell_type": "markdown",
      "metadata": {
        "id": "uj7biOtatAmG"
      },
      "source": [
        "## Creating a Heterogeneous Link-level GNN\n",
        "\n",
        "We are now ready to create our heterogeneous GNN.\n",
        "The GNN is responsible for learning enriched node representations from the surrounding subgraphs, which can be then used to derive edge-level predictions.\n",
        "For defining our heterogenous GNN, we make use of [`nn.SAGEConv`](https://pytorch-geometric.readthedocs.io/en/latest/modules/nn.html#torch_geometric.nn.conv.SAGEConv) and the [`nn.to_hetero()`](https://pytorch-geometric.readthedocs.io/en/latest/modules/nn.html#torch_geometric.nn.to_hetero_transformer.to_hetero) function, which transforms a GNN defined on homogeneous graphs to be applied on heterogeneous ones.\n",
        "\n",
        "In addition, we define a final link-level classifier, which simply takes both node embeddings of the link we are trying to predict, and applies a dot-product on them.\n",
        "\n",
        "As users do not have any node-level information, we choose to learn their features jointly via a `torch.nn.Embedding` layer. In order to improve the expressiveness of movie features, we do the same for movie nodes, and simply add their shallow embeddings to the pre-defined genre features."
      ]
    },
    {
      "cell_type": "code",
      "execution_count": null,
      "metadata": {
        "id": "ebsFf-Pr_4LF"
      },
      "outputs": [],
      "source": [
        "from torch_geometric.nn import SAGEConv, to_hetero\n",
        "import torch.nn\n",
        "import torch.nn.functional as F  # aggiungo questo import\n",
        "\n",
        "\n",
        "class GNN(torch.nn.Module):\n",
        "    def __init__(self, hidden_channels,dropout_rate):\n",
        "        super().__init__()\n",
        "\n",
        "        self.conv1 = SAGEConv(hidden_channels, hidden_channels)\n",
        "        self.dropout = torch.nn.Dropout(dropout_rate)\n",
        "        self.conv2 = SAGEConv(hidden_channels, hidden_channels)\n",
        "     \n",
        "\n",
        "    def forward(self, x: Tensor, edge_index: Tensor) -> Tensor:\n",
        "        \n",
        "        # La funzione applica una funzione di attivazione ReLU al primo layer di convoluzione, \n",
        "        # quindi applica il secondo layer di convoluzione senza attivazione.\n",
        "        # aggiungo dropout per regolarizzare\n",
        "        \n",
        "        x = F.relu(self.conv1(x, edge_index))\n",
        "        x = self.dropout(x)             \n",
        "        x = self.conv2(x, edge_index)\n",
        "        return x \n"
      ]
    },
    {
      "cell_type": "code",
      "execution_count": null,
      "metadata": {
        "id": "wAwuYzCaC3of"
      },
      "outputs": [],
      "source": [
        "# Our final classifier applies the dot-product between source and destination\n",
        "# node embeddings to derive edge-level predictions:\n",
        "class Classifier(torch.nn.Module):\n",
        "    def forward(self, x_user: Tensor, x_business: Tensor, edge_label_index: Tensor) -> Tensor:\n",
        "        # Convert node embeddings to edge-level representations:\n",
        "        \n",
        "        edge_feat_user = x_user[edge_label_index[0]]    # source nodes\n",
        "        edge_feat_business = x_business[edge_label_index[1]]  # targets nodes\n",
        "        \n",
        "\n",
        "        # Apply dot-product to get a prediction per supervision edge:\n",
        "        \n",
        "        return (edge_feat_user * edge_feat_business).sum(dim=-1)\n",
        "        "
      ]
    },
    {
      "cell_type": "code",
      "execution_count": null,
      "metadata": {
        "colab": {
          "base_uri": "https://localhost:8080/"
        },
        "id": "WyUj5A83DDxl",
        "outputId": "cf315cf2-8aa4-4966-c658-9ca46d234e6a"
      },
      "outputs": [
        {
          "output_type": "stream",
          "name": "stdout",
          "text": [
            "Model(\n",
            "  (business_lin): Linear(in_features=957, out_features=64, bias=True)\n",
            "  (user_emb): Embedding(232202, 64)\n",
            "  (business_emb): Embedding(8148, 64)\n",
            "  (gnn): GraphModule(\n",
            "    (conv1): ModuleDict(\n",
            "      (user_id__stars__business_id): SAGEConv(64, 64, aggr=mean)\n",
            "      (business_id__rev_stars__user_id): SAGEConv(64, 64, aggr=mean)\n",
            "    )\n",
            "    (dropout): ModuleDict(\n",
            "      (user_id): Dropout(p=0.5, inplace=False)\n",
            "      (business_id): Dropout(p=0.5, inplace=False)\n",
            "    )\n",
            "    (conv2): ModuleDict(\n",
            "      (user_id__stars__business_id): SAGEConv(64, 64, aggr=mean)\n",
            "      (business_id__rev_stars__user_id): SAGEConv(64, 64, aggr=mean)\n",
            "    )\n",
            "  )\n",
            "  (dropout): Dropout(p=0.5, inplace=False)\n",
            "  (classifier): Classifier()\n",
            ")\n"
          ]
        }
      ],
      "source": [
        "class Model(torch.nn.Module):\n",
        "    def __init__(self, hidden_channels,dropout_rate):\n",
        "        super().__init__()\n",
        "        # Since the dataset does not come with rich features, we also learn two\n",
        "        # embedding matrices for users and business:\n",
        "        \n",
        "        self.business_lin = torch.nn.Linear(957, hidden_channels)  \n",
        "        self.user_emb = torch.nn.Embedding(data[\"user_id\"].num_nodes, hidden_channels)\n",
        "        self.business_emb = torch.nn.Embedding(data[\"business_id\"].num_nodes, hidden_channels)\n",
        "\n",
        "        # Instantiate homogeneous GNN:\n",
        "        \n",
        "        self.gnn = GNN(hidden_channels,dropout_rate)\n",
        "        self.dropout = torch.nn.Dropout(p=dropout_rate)  # <--- Aggiunta della dropout layer\n",
        "        \n",
        "        # Convert GNN model into a heterogeneous variant:\n",
        "        \n",
        "        self.gnn = to_hetero(self.gnn, metadata=data.metadata())\n",
        "\n",
        "        self.classifier = Classifier()\n",
        "\n",
        "    def forward(self, data: HeteroData) -> Tensor:\n",
        "        x_dict = {\n",
        "          \"user_id\": self.user_emb(data[\"user_id\"].node_id),\n",
        "          \"business_id\": self.business_lin(data[\"business_id\"].x) + self.business_emb(data[\"business_id\"].node_id),\n",
        "        } \n",
        "\n",
        "        # `x_dict` holds feature matrices of all node types\n",
        "        # `edge_index_dict` holds all edge indices of all edge types\n",
        "        \n",
        "        x_dict = self.gnn(x_dict, data.edge_index_dict)\n",
        "\n",
        "        pred = self.classifier(\n",
        "            x_dict[\"user_id\"],\n",
        "            x_dict[\"business_id\"],\n",
        "            data[\"user_id\", \"stars\", \"business_id\"].edge_label_index,\n",
        "        )\n",
        "        \n",
        "        return pred\n",
        "model = Model(hidden_channels=64,dropout_rate=0.5)\n",
        "\n",
        "print(model)"
      ]
    },
    {
      "cell_type": "markdown",
      "metadata": {
        "id": "05dfew-WuWHN"
      },
      "source": [
        "## Training a Heterogeneous Link-level GNN\n",
        "\n",
        "Training our GNN is then similar to training any PyTorch model.\n",
        "We move the model to the desired device, and initialize an optimizer that takes care of adjusting model parameters via stochastic gradient descent.\n",
        "\n",
        "The training loop then iterates over our mini-batches, applies the forward computation of the model, computes the loss from ground-truth labels and obtained predictions (here we make use of binary cross entropy), and adjusts model parameters via back-propagation and stochastic gradient descent."
      ]
    },
    {
      "cell_type": "markdown",
      "source": [
        "# Nuova Logica GCN"
      ],
      "metadata": {
        "id": "1rTUq9ToJD1o"
      }
    },
    {
      "cell_type": "markdown",
      "source": [
        "La principale differenza tra i due modelli è l'utilizzo di diversi tipi di layer di convoluzione (SAGEConv vs GCNConv).Inoltre, nel secondo modello, sono state aggiunte alcune righe per disabilitare l'aggiunta di self-loop nei layer di convoluzione GCNConv."
      ],
      "metadata": {
        "id": "RhaDu0VgCZn-"
      }
    },
    {
      "cell_type": "code",
      "source": [
        "from torch_geometric.nn import GCNConv\n",
        "from torch_geometric.nn import to_hetero\n",
        "import torch.nn.functional as F \n",
        "\n",
        "class GNN(torch.nn.Module):\n",
        "    def __init__(self, hidden_channels, dropout_rate):\n",
        "        super().__init__()\n",
        "\n",
        "        self.conv1 = GCNConv(hidden_channels, hidden_channels)\n",
        "        self.dropout = torch.nn.Dropout(dropout_rate)\n",
        "        self.conv2 = GCNConv(hidden_channels, hidden_channels)\n",
        "     \n",
        "    def forward(self, x: Tensor, edge_index: Tensor) -> Tensor:\n",
        "        x = self.conv1(x, edge_index)\n",
        "        x = F.relu(x)\n",
        "        x = self.dropout(x)\n",
        "        x = self.conv2(x, edge_index)\n",
        "        return x\n"
      ],
      "metadata": {
        "id": "HIRqVqFd_6Mx"
      },
      "execution_count": null,
      "outputs": []
    },
    {
      "cell_type": "code",
      "source": [
        "# Our final classifier applies the dot-product between source and destination\n",
        "# node embeddings to derive edge-level predictions:\n",
        "class Classifier(torch.nn.Module):\n",
        "    def forward(self, x_user: Tensor, x_business: Tensor, edge_label_index: Tensor) -> Tensor:\n",
        "        # Convert node embeddings to edge-level representations:\n",
        "        \n",
        "        edge_feat_user = x_user[edge_label_index[0]]    # source nodes\n",
        "        edge_feat_business = x_business[edge_label_index[1]]  # targets nodes\n",
        "        \n",
        "\n",
        "        # Apply dot-product to get a prediction per supervision edge:\n",
        "        \n",
        "        return (edge_feat_user * edge_feat_business).sum(dim=-1)"
      ],
      "metadata": {
        "id": "GNUawGdZ_7OG"
      },
      "execution_count": null,
      "outputs": []
    },
    {
      "cell_type": "code",
      "source": [
        "class Model(torch.nn.Module):\n",
        "    def __init__(self, hidden_channels,dropout_rate):\n",
        "        super().__init__()\n",
        "        # Since the dataset does not come with rich features, we also learn two\n",
        "        # embedding matrices for users and business:\n",
        "        \n",
        "        self.business_lin = torch.nn.Linear(957, hidden_channels)  \n",
        "        self.user_emb = torch.nn.Embedding(data[\"user_id\"].num_nodes, hidden_channels)\n",
        "        self.business_emb = torch.nn.Embedding(data[\"business_id\"].num_nodes, hidden_channels)\n",
        "\n",
        "        # Instantiate homogeneous GNN:\n",
        "        \n",
        "        self.gnn = GNN(hidden_channels,dropout_rate)\n",
        "        \n",
        "        self.gnn = GNN(hidden_channels, dropout_rate)\n",
        "        self.gnn.conv1.add_self_loops = False\n",
        "        self.gnn.conv2.add_self_loops = False\n",
        "\n",
        "\n",
        "        self.dropout = torch.nn.Dropout(p=dropout_rate)  # <--- Aggiunta della dropout layer\n",
        "        \n",
        "        # Convert GNN model into a heterogeneous variant:\n",
        "        \n",
        "        self.gnn = to_hetero(self.gnn, metadata=data.metadata())\n",
        "\n",
        "        self.classifier = Classifier()\n",
        "\n",
        "    def forward(self, data: HeteroData) -> Tensor:\n",
        "        x_dict = {\n",
        "          \"user_id\": self.user_emb(data[\"user_id\"].node_id),\n",
        "          \"business_id\": self.business_lin(data[\"business_id\"].x) + self.business_emb(data[\"business_id\"].node_id),\n",
        "        } \n",
        "\n",
        "        # `x_dict` holds feature matrices of all node types\n",
        "        # `edge_index_dict` holds all edge indices of all edge types\n",
        "        \n",
        "        x_dict = self.gnn(x_dict, data.edge_index_dict)\n",
        "\n",
        "        pred = self.classifier(\n",
        "            x_dict[\"user_id\"],\n",
        "            x_dict[\"business_id\"],\n",
        "            data[\"user_id\", \"stars\", \"business_id\"].edge_label_index,\n",
        "        )\n",
        "        \n",
        "        return pred\n",
        "model = Model(hidden_channels=64,dropout_rate=0.5)\n",
        "\n",
        "print(model)"
      ],
      "metadata": {
        "colab": {
          "base_uri": "https://localhost:8080/"
        },
        "id": "vFzlefvt_9tY",
        "outputId": "118c9048-f506-4340-8032-b07c6d22f6ff"
      },
      "execution_count": null,
      "outputs": [
        {
          "output_type": "stream",
          "name": "stdout",
          "text": [
            "Model(\n",
            "  (business_lin): Linear(in_features=957, out_features=64, bias=True)\n",
            "  (user_emb): Embedding(232202, 64)\n",
            "  (business_emb): Embedding(8148, 64)\n",
            "  (gnn): GraphModule(\n",
            "    (conv1): ModuleDict(\n",
            "      (user_id__stars__business_id): GCNConv(64, 64)\n",
            "      (business_id__rev_stars__user_id): GCNConv(64, 64)\n",
            "    )\n",
            "    (dropout): ModuleDict(\n",
            "      (user_id): Dropout(p=0.5, inplace=False)\n",
            "      (business_id): Dropout(p=0.5, inplace=False)\n",
            "    )\n",
            "    (conv2): ModuleDict(\n",
            "      (user_id__stars__business_id): GCNConv(64, 64)\n",
            "      (business_id__rev_stars__user_id): GCNConv(64, 64)\n",
            "    )\n",
            "  )\n",
            "  (dropout): Dropout(p=0.5, inplace=False)\n",
            "  (classifier): Classifier()\n",
            ")\n"
          ]
        }
      ]
    },
    {
      "cell_type": "markdown",
      "metadata": {
        "id": "Ds8h45qiHEgj"
      },
      "source": [
        "modo senza learning curve"
      ]
    },
    {
      "cell_type": "code",
      "execution_count": null,
      "metadata": {
        "id": "OqLuXEcrAMru",
        "colab": {
          "base_uri": "https://localhost:8080/",
          "height": 571
        },
        "outputId": "23419479-8550-4883-9426-6a4446d02d70"
      },
      "outputs": [
        {
          "output_type": "stream",
          "name": "stdout",
          "text": [
            "Device: 'cpu'\n"
          ]
        },
        {
          "output_type": "stream",
          "name": "stderr",
          "text": [
            "  0%|          | 0/1303 [00:00<?, ?it/s]\n"
          ]
        },
        {
          "output_type": "error",
          "ename": "AttributeError",
          "evalue": "ignored",
          "traceback": [
            "\u001b[0;31m---------------------------------------------------------------------------\u001b[0m",
            "\u001b[0;31mAttributeError\u001b[0m                            Traceback (most recent call last)",
            "\u001b[0;32m<ipython-input-28-f8dbb81791a4>\u001b[0m in \u001b[0;36m<cell line: 9>\u001b[0;34m()\u001b[0m\n\u001b[1;32m     16\u001b[0m \u001b[0;34m\u001b[0m\u001b[0m\n\u001b[1;32m     17\u001b[0m         \u001b[0;31m# Run `forward` pass of the model\u001b[0m\u001b[0;34m\u001b[0m\u001b[0;34m\u001b[0m\u001b[0m\n\u001b[0;32m---> 18\u001b[0;31m         \u001b[0mpred\u001b[0m \u001b[0;34m=\u001b[0m \u001b[0mmodel\u001b[0m\u001b[0;34m(\u001b[0m\u001b[0msampled_data\u001b[0m\u001b[0;34m)\u001b[0m\u001b[0;34m\u001b[0m\u001b[0;34m\u001b[0m\u001b[0m\n\u001b[0m\u001b[1;32m     19\u001b[0m \u001b[0;34m\u001b[0m\u001b[0m\n\u001b[1;32m     20\u001b[0m         \u001b[0mground_truth\u001b[0m \u001b[0;34m=\u001b[0m \u001b[0msampled_data\u001b[0m\u001b[0;34m[\u001b[0m\u001b[0;34m\"user_id\"\u001b[0m\u001b[0;34m,\u001b[0m \u001b[0;34m\"stars\"\u001b[0m\u001b[0;34m,\u001b[0m \u001b[0;34m\"business_id\"\u001b[0m\u001b[0;34m]\u001b[0m\u001b[0;34m.\u001b[0m\u001b[0medge_label\u001b[0m\u001b[0;34m\u001b[0m\u001b[0;34m\u001b[0m\u001b[0m\n",
            "\u001b[0;32m/usr/local/lib/python3.10/dist-packages/torch/nn/modules/module.py\u001b[0m in \u001b[0;36m_call_impl\u001b[0;34m(self, *args, **kwargs)\u001b[0m\n\u001b[1;32m   1499\u001b[0m                 \u001b[0;32mor\u001b[0m \u001b[0m_global_backward_pre_hooks\u001b[0m \u001b[0;32mor\u001b[0m \u001b[0m_global_backward_hooks\u001b[0m\u001b[0;34m\u001b[0m\u001b[0;34m\u001b[0m\u001b[0m\n\u001b[1;32m   1500\u001b[0m                 or _global_forward_hooks or _global_forward_pre_hooks):\n\u001b[0;32m-> 1501\u001b[0;31m             \u001b[0;32mreturn\u001b[0m \u001b[0mforward_call\u001b[0m\u001b[0;34m(\u001b[0m\u001b[0;34m*\u001b[0m\u001b[0margs\u001b[0m\u001b[0;34m,\u001b[0m \u001b[0;34m**\u001b[0m\u001b[0mkwargs\u001b[0m\u001b[0;34m)\u001b[0m\u001b[0;34m\u001b[0m\u001b[0;34m\u001b[0m\u001b[0m\n\u001b[0m\u001b[1;32m   1502\u001b[0m         \u001b[0;31m# Do not call functions when jit is used\u001b[0m\u001b[0;34m\u001b[0m\u001b[0;34m\u001b[0m\u001b[0m\n\u001b[1;32m   1503\u001b[0m         \u001b[0mfull_backward_hooks\u001b[0m\u001b[0;34m,\u001b[0m \u001b[0mnon_full_backward_hooks\u001b[0m \u001b[0;34m=\u001b[0m \u001b[0;34m[\u001b[0m\u001b[0;34m]\u001b[0m\u001b[0;34m,\u001b[0m \u001b[0;34m[\u001b[0m\u001b[0;34m]\u001b[0m\u001b[0;34m\u001b[0m\u001b[0;34m\u001b[0m\u001b[0m\n",
            "\u001b[0;32m<ipython-input-27-5f1265739bde>\u001b[0m in \u001b[0;36mforward\u001b[0;34m(self, data)\u001b[0m\n\u001b[1;32m     35\u001b[0m         \u001b[0;31m# `edge_index_dict` holds all edge indices of all edge types\u001b[0m\u001b[0;34m\u001b[0m\u001b[0;34m\u001b[0m\u001b[0m\n\u001b[1;32m     36\u001b[0m \u001b[0;34m\u001b[0m\u001b[0m\n\u001b[0;32m---> 37\u001b[0;31m         \u001b[0mx_dict\u001b[0m \u001b[0;34m=\u001b[0m \u001b[0mself\u001b[0m\u001b[0;34m.\u001b[0m\u001b[0mgnn\u001b[0m\u001b[0;34m(\u001b[0m\u001b[0mx_dict\u001b[0m\u001b[0;34m,\u001b[0m \u001b[0mdata\u001b[0m\u001b[0;34m.\u001b[0m\u001b[0medge_index_dict\u001b[0m\u001b[0;34m)\u001b[0m\u001b[0;34m\u001b[0m\u001b[0;34m\u001b[0m\u001b[0m\n\u001b[0m\u001b[1;32m     38\u001b[0m \u001b[0;34m\u001b[0m\u001b[0m\n\u001b[1;32m     39\u001b[0m         pred = self.classifier(\n",
            "\u001b[0;32m/usr/local/lib/python3.10/dist-packages/torch/fx/graph_module.py\u001b[0m in \u001b[0;36mcall_wrapped\u001b[0;34m(self, *args, **kwargs)\u001b[0m\n\u001b[1;32m    660\u001b[0m \u001b[0;34m\u001b[0m\u001b[0m\n\u001b[1;32m    661\u001b[0m         \u001b[0;32mdef\u001b[0m \u001b[0mcall_wrapped\u001b[0m\u001b[0;34m(\u001b[0m\u001b[0mself\u001b[0m\u001b[0;34m,\u001b[0m \u001b[0;34m*\u001b[0m\u001b[0margs\u001b[0m\u001b[0;34m,\u001b[0m \u001b[0;34m**\u001b[0m\u001b[0mkwargs\u001b[0m\u001b[0;34m)\u001b[0m\u001b[0;34m:\u001b[0m\u001b[0;34m\u001b[0m\u001b[0;34m\u001b[0m\u001b[0m\n\u001b[0;32m--> 662\u001b[0;31m             \u001b[0;32mreturn\u001b[0m \u001b[0mself\u001b[0m\u001b[0;34m.\u001b[0m\u001b[0m_wrapped_call\u001b[0m\u001b[0;34m(\u001b[0m\u001b[0mself\u001b[0m\u001b[0;34m,\u001b[0m \u001b[0;34m*\u001b[0m\u001b[0margs\u001b[0m\u001b[0;34m,\u001b[0m \u001b[0;34m**\u001b[0m\u001b[0mkwargs\u001b[0m\u001b[0;34m)\u001b[0m\u001b[0;34m\u001b[0m\u001b[0;34m\u001b[0m\u001b[0m\n\u001b[0m\u001b[1;32m    663\u001b[0m \u001b[0;34m\u001b[0m\u001b[0m\n\u001b[1;32m    664\u001b[0m         \u001b[0mcls\u001b[0m\u001b[0;34m.\u001b[0m\u001b[0m__call__\u001b[0m \u001b[0;34m=\u001b[0m \u001b[0mcall_wrapped\u001b[0m\u001b[0;34m\u001b[0m\u001b[0;34m\u001b[0m\u001b[0m\n",
            "\u001b[0;32m/usr/local/lib/python3.10/dist-packages/torch/fx/graph_module.py\u001b[0m in \u001b[0;36m__call__\u001b[0;34m(self, obj, *args, **kwargs)\u001b[0m\n\u001b[1;32m    279\u001b[0m                 \u001b[0;32mraise\u001b[0m \u001b[0me\u001b[0m\u001b[0;34m.\u001b[0m\u001b[0mwith_traceback\u001b[0m\u001b[0;34m(\u001b[0m\u001b[0;32mNone\u001b[0m\u001b[0;34m)\u001b[0m\u001b[0;34m\u001b[0m\u001b[0;34m\u001b[0m\u001b[0m\n\u001b[1;32m    280\u001b[0m             \u001b[0;32melse\u001b[0m\u001b[0;34m:\u001b[0m\u001b[0;34m\u001b[0m\u001b[0;34m\u001b[0m\u001b[0m\n\u001b[0;32m--> 281\u001b[0;31m                 \u001b[0;32mraise\u001b[0m \u001b[0me\u001b[0m\u001b[0;34m\u001b[0m\u001b[0;34m\u001b[0m\u001b[0m\n\u001b[0m\u001b[1;32m    282\u001b[0m \u001b[0;34m\u001b[0m\u001b[0m\n\u001b[1;32m    283\u001b[0m \u001b[0;34m@\u001b[0m\u001b[0mcompatibility\u001b[0m\u001b[0;34m(\u001b[0m\u001b[0mis_backward_compatible\u001b[0m\u001b[0;34m=\u001b[0m\u001b[0;32mTrue\u001b[0m\u001b[0;34m)\u001b[0m\u001b[0;34m\u001b[0m\u001b[0;34m\u001b[0m\u001b[0m\n",
            "\u001b[0;32m/usr/local/lib/python3.10/dist-packages/torch/fx/graph_module.py\u001b[0m in \u001b[0;36m__call__\u001b[0;34m(self, obj, *args, **kwargs)\u001b[0m\n\u001b[1;32m    269\u001b[0m                 \u001b[0;32mreturn\u001b[0m \u001b[0mself\u001b[0m\u001b[0;34m.\u001b[0m\u001b[0mcls_call\u001b[0m\u001b[0;34m(\u001b[0m\u001b[0mobj\u001b[0m\u001b[0;34m,\u001b[0m \u001b[0;34m*\u001b[0m\u001b[0margs\u001b[0m\u001b[0;34m,\u001b[0m \u001b[0;34m**\u001b[0m\u001b[0mkwargs\u001b[0m\u001b[0;34m)\u001b[0m\u001b[0;34m\u001b[0m\u001b[0;34m\u001b[0m\u001b[0m\n\u001b[1;32m    270\u001b[0m             \u001b[0;32melse\u001b[0m\u001b[0;34m:\u001b[0m\u001b[0;34m\u001b[0m\u001b[0;34m\u001b[0m\u001b[0m\n\u001b[0;32m--> 271\u001b[0;31m                 \u001b[0;32mreturn\u001b[0m \u001b[0msuper\u001b[0m\u001b[0;34m(\u001b[0m\u001b[0mself\u001b[0m\u001b[0;34m.\u001b[0m\u001b[0mcls\u001b[0m\u001b[0;34m,\u001b[0m \u001b[0mobj\u001b[0m\u001b[0;34m)\u001b[0m\u001b[0;34m.\u001b[0m\u001b[0m__call__\u001b[0m\u001b[0;34m(\u001b[0m\u001b[0;34m*\u001b[0m\u001b[0margs\u001b[0m\u001b[0;34m,\u001b[0m \u001b[0;34m**\u001b[0m\u001b[0mkwargs\u001b[0m\u001b[0;34m)\u001b[0m  \u001b[0;31m# type: ignore[misc]\u001b[0m\u001b[0;34m\u001b[0m\u001b[0;34m\u001b[0m\u001b[0m\n\u001b[0m\u001b[1;32m    272\u001b[0m         \u001b[0;32mexcept\u001b[0m \u001b[0mException\u001b[0m \u001b[0;32mas\u001b[0m \u001b[0me\u001b[0m\u001b[0;34m:\u001b[0m\u001b[0;34m\u001b[0m\u001b[0;34m\u001b[0m\u001b[0m\n\u001b[1;32m    273\u001b[0m             \u001b[0;32massert\u001b[0m \u001b[0me\u001b[0m\u001b[0;34m.\u001b[0m\u001b[0m__traceback__\u001b[0m\u001b[0;34m\u001b[0m\u001b[0;34m\u001b[0m\u001b[0m\n",
            "\u001b[0;32m/usr/local/lib/python3.10/dist-packages/torch/nn/modules/module.py\u001b[0m in \u001b[0;36m_call_impl\u001b[0;34m(self, *args, **kwargs)\u001b[0m\n\u001b[1;32m   1499\u001b[0m                 \u001b[0;32mor\u001b[0m \u001b[0m_global_backward_pre_hooks\u001b[0m \u001b[0;32mor\u001b[0m \u001b[0m_global_backward_hooks\u001b[0m\u001b[0;34m\u001b[0m\u001b[0;34m\u001b[0m\u001b[0m\n\u001b[1;32m   1500\u001b[0m                 or _global_forward_hooks or _global_forward_pre_hooks):\n\u001b[0;32m-> 1501\u001b[0;31m             \u001b[0;32mreturn\u001b[0m \u001b[0mforward_call\u001b[0m\u001b[0;34m(\u001b[0m\u001b[0;34m*\u001b[0m\u001b[0margs\u001b[0m\u001b[0;34m,\u001b[0m \u001b[0;34m**\u001b[0m\u001b[0mkwargs\u001b[0m\u001b[0;34m)\u001b[0m\u001b[0;34m\u001b[0m\u001b[0;34m\u001b[0m\u001b[0m\n\u001b[0m\u001b[1;32m   1502\u001b[0m         \u001b[0;31m# Do not call functions when jit is used\u001b[0m\u001b[0;34m\u001b[0m\u001b[0;34m\u001b[0m\u001b[0m\n\u001b[1;32m   1503\u001b[0m         \u001b[0mfull_backward_hooks\u001b[0m\u001b[0;34m,\u001b[0m \u001b[0mnon_full_backward_hooks\u001b[0m \u001b[0;34m=\u001b[0m \u001b[0;34m[\u001b[0m\u001b[0;34m]\u001b[0m\u001b[0;34m,\u001b[0m \u001b[0;34m[\u001b[0m\u001b[0;34m]\u001b[0m\u001b[0;34m\u001b[0m\u001b[0;34m\u001b[0m\u001b[0m\n",
            "\u001b[0;32m<eval_with_key>.1\u001b[0m in \u001b[0;36mforward\u001b[0;34m(self, x, edge_index)\u001b[0m\n\u001b[1;32m      9\u001b[0m     \u001b[0medge_index__user_id__stars__business_id\u001b[0m \u001b[0;34m=\u001b[0m \u001b[0medge_index_dict\u001b[0m\u001b[0;34m.\u001b[0m\u001b[0mget\u001b[0m\u001b[0;34m(\u001b[0m\u001b[0;34m(\u001b[0m\u001b[0;34m'user_id'\u001b[0m\u001b[0;34m,\u001b[0m \u001b[0;34m'stars'\u001b[0m\u001b[0;34m,\u001b[0m \u001b[0;34m'business_id'\u001b[0m\u001b[0;34m)\u001b[0m\u001b[0;34m,\u001b[0m \u001b[0;32mNone\u001b[0m\u001b[0;34m)\u001b[0m\u001b[0;34m\u001b[0m\u001b[0;34m\u001b[0m\u001b[0m\n\u001b[1;32m     10\u001b[0m     \u001b[0medge_index__business_id__rev_stars__user_id\u001b[0m \u001b[0;34m=\u001b[0m \u001b[0medge_index_dict\u001b[0m\u001b[0;34m.\u001b[0m\u001b[0mget\u001b[0m\u001b[0;34m(\u001b[0m\u001b[0;34m(\u001b[0m\u001b[0;34m'business_id'\u001b[0m\u001b[0;34m,\u001b[0m \u001b[0;34m'rev_stars'\u001b[0m\u001b[0;34m,\u001b[0m \u001b[0;34m'user_id'\u001b[0m\u001b[0;34m)\u001b[0m\u001b[0;34m,\u001b[0m \u001b[0;32mNone\u001b[0m\u001b[0;34m)\u001b[0m\u001b[0;34m;\u001b[0m  \u001b[0medge_index_dict\u001b[0m \u001b[0;34m=\u001b[0m \u001b[0;32mNone\u001b[0m\u001b[0;34m\u001b[0m\u001b[0;34m\u001b[0m\u001b[0m\n\u001b[0;32m---> 11\u001b[0;31m     \u001b[0mconv1__business_id\u001b[0m \u001b[0;34m=\u001b[0m \u001b[0mself\u001b[0m\u001b[0;34m.\u001b[0m\u001b[0mconv1\u001b[0m\u001b[0;34m.\u001b[0m\u001b[0muser_id__stars__business_id\u001b[0m\u001b[0;34m(\u001b[0m\u001b[0;34m(\u001b[0m\u001b[0mx__user_id\u001b[0m\u001b[0;34m,\u001b[0m \u001b[0mx__business_id\u001b[0m\u001b[0;34m)\u001b[0m\u001b[0;34m,\u001b[0m \u001b[0medge_index__user_id__stars__business_id\u001b[0m\u001b[0;34m)\u001b[0m\u001b[0;34m\u001b[0m\u001b[0;34m\u001b[0m\u001b[0m\n\u001b[0m\u001b[1;32m     12\u001b[0m     \u001b[0mconv1__user_id\u001b[0m \u001b[0;34m=\u001b[0m \u001b[0mself\u001b[0m\u001b[0;34m.\u001b[0m\u001b[0mconv1\u001b[0m\u001b[0;34m.\u001b[0m\u001b[0mbusiness_id__rev_stars__user_id\u001b[0m\u001b[0;34m(\u001b[0m\u001b[0;34m(\u001b[0m\u001b[0mx__business_id\u001b[0m\u001b[0;34m,\u001b[0m \u001b[0mx__user_id\u001b[0m\u001b[0;34m)\u001b[0m\u001b[0;34m,\u001b[0m \u001b[0medge_index__business_id__rev_stars__user_id\u001b[0m\u001b[0;34m)\u001b[0m\u001b[0;34m;\u001b[0m  \u001b[0mx__business_id\u001b[0m \u001b[0;34m=\u001b[0m \u001b[0mx__user_id\u001b[0m \u001b[0;34m=\u001b[0m \u001b[0;32mNone\u001b[0m\u001b[0;34m\u001b[0m\u001b[0;34m\u001b[0m\u001b[0m\n\u001b[1;32m     13\u001b[0m     \u001b[0mrelu__user_id\u001b[0m \u001b[0;34m=\u001b[0m \u001b[0mtorch\u001b[0m\u001b[0;34m.\u001b[0m\u001b[0mnn\u001b[0m\u001b[0;34m.\u001b[0m\u001b[0mfunctional\u001b[0m\u001b[0;34m.\u001b[0m\u001b[0mrelu\u001b[0m\u001b[0;34m(\u001b[0m\u001b[0mconv1__user_id\u001b[0m\u001b[0;34m,\u001b[0m \u001b[0minplace\u001b[0m \u001b[0;34m=\u001b[0m \u001b[0;32mFalse\u001b[0m\u001b[0;34m)\u001b[0m\u001b[0;34m;\u001b[0m  \u001b[0mconv1__user_id\u001b[0m \u001b[0;34m=\u001b[0m \u001b[0;32mNone\u001b[0m\u001b[0;34m\u001b[0m\u001b[0;34m\u001b[0m\u001b[0m\n",
            "\u001b[0;32m/usr/local/lib/python3.10/dist-packages/torch/nn/modules/module.py\u001b[0m in \u001b[0;36m_call_impl\u001b[0;34m(self, *args, **kwargs)\u001b[0m\n\u001b[1;32m   1499\u001b[0m                 \u001b[0;32mor\u001b[0m \u001b[0m_global_backward_pre_hooks\u001b[0m \u001b[0;32mor\u001b[0m \u001b[0m_global_backward_hooks\u001b[0m\u001b[0;34m\u001b[0m\u001b[0;34m\u001b[0m\u001b[0m\n\u001b[1;32m   1500\u001b[0m                 or _global_forward_hooks or _global_forward_pre_hooks):\n\u001b[0;32m-> 1501\u001b[0;31m             \u001b[0;32mreturn\u001b[0m \u001b[0mforward_call\u001b[0m\u001b[0;34m(\u001b[0m\u001b[0;34m*\u001b[0m\u001b[0margs\u001b[0m\u001b[0;34m,\u001b[0m \u001b[0;34m**\u001b[0m\u001b[0mkwargs\u001b[0m\u001b[0;34m)\u001b[0m\u001b[0;34m\u001b[0m\u001b[0;34m\u001b[0m\u001b[0m\n\u001b[0m\u001b[1;32m   1502\u001b[0m         \u001b[0;31m# Do not call functions when jit is used\u001b[0m\u001b[0;34m\u001b[0m\u001b[0;34m\u001b[0m\u001b[0m\n\u001b[1;32m   1503\u001b[0m         \u001b[0mfull_backward_hooks\u001b[0m\u001b[0;34m,\u001b[0m \u001b[0mnon_full_backward_hooks\u001b[0m \u001b[0;34m=\u001b[0m \u001b[0;34m[\u001b[0m\u001b[0;34m]\u001b[0m\u001b[0;34m,\u001b[0m \u001b[0;34m[\u001b[0m\u001b[0;34m]\u001b[0m\u001b[0;34m\u001b[0m\u001b[0;34m\u001b[0m\u001b[0m\n",
            "\u001b[0;32m/usr/local/lib/python3.10/dist-packages/torch_geometric/nn/conv/gcn_conv.py\u001b[0m in \u001b[0;36mforward\u001b[0;34m(self, x, edge_index, edge_weight)\u001b[0m\n\u001b[1;32m    209\u001b[0m                 \u001b[0;32mif\u001b[0m \u001b[0mcache\u001b[0m \u001b[0;32mis\u001b[0m \u001b[0;32mNone\u001b[0m\u001b[0;34m:\u001b[0m\u001b[0;34m\u001b[0m\u001b[0;34m\u001b[0m\u001b[0m\n\u001b[1;32m    210\u001b[0m                     edge_index, edge_weight = gcn_norm(  # yapf: disable\n\u001b[0;32m--> 211\u001b[0;31m                         \u001b[0medge_index\u001b[0m\u001b[0;34m,\u001b[0m \u001b[0medge_weight\u001b[0m\u001b[0;34m,\u001b[0m \u001b[0mx\u001b[0m\u001b[0;34m.\u001b[0m\u001b[0msize\u001b[0m\u001b[0;34m(\u001b[0m\u001b[0mself\u001b[0m\u001b[0;34m.\u001b[0m\u001b[0mnode_dim\u001b[0m\u001b[0;34m)\u001b[0m\u001b[0;34m,\u001b[0m\u001b[0;34m\u001b[0m\u001b[0;34m\u001b[0m\u001b[0m\n\u001b[0m\u001b[1;32m    212\u001b[0m                         self.improved, self.add_self_loops, self.flow, x.dtype)\n\u001b[1;32m    213\u001b[0m                     \u001b[0;32mif\u001b[0m \u001b[0mself\u001b[0m\u001b[0;34m.\u001b[0m\u001b[0mcached\u001b[0m\u001b[0;34m:\u001b[0m\u001b[0;34m\u001b[0m\u001b[0;34m\u001b[0m\u001b[0m\n",
            "\u001b[0;31mAttributeError\u001b[0m: 'tuple' object has no attribute 'size'"
          ]
        }
      ],
      "source": [
        "import tqdm\n",
        "\n",
        "device = torch.device('cuda' if torch.cuda.is_available() else 'cpu')\n",
        "print(f\"Device: '{device}'\")\n",
        "\n",
        "model = model.to(device)\n",
        "optimizer = torch.optim.Adam(model.parameters(), lr=0.001)\n",
        "\n",
        "for epoch in range(1, 9):\n",
        "    total_loss = total_examples = 0\n",
        "    for sampled_data in tqdm.tqdm(train_loader):\n",
        "        optimizer.zero_grad()\n",
        "\n",
        "        # Move `sampled_data` to the respective `device`\n",
        "        sampled_data=sampled_data.to(device)\n",
        "\n",
        "        # Run `forward` pass of the model\n",
        "        pred = model(sampled_data)\n",
        "\n",
        "        ground_truth = sampled_data[\"user_id\", \"stars\", \"business_id\"].edge_label\n",
        "\n",
        "        # Apply binary cross entropy via `F.binary_cross_entropy_with_logits(pred, ground_truth)`\n",
        "        loss = F.binary_cross_entropy_with_logits(pred, ground_truth)\n",
        "\n",
        "        loss.backward()\n",
        "        optimizer.step()\n",
        "        total_loss += float(loss) * pred.numel()\n",
        "        total_examples += pred.numel()\n",
        "    print(f\"Epoch: {epoch:03d}, Loss: {total_loss / total_examples:.4f}\")\n"
      ]
    },
    {
      "cell_type": "code",
      "execution_count": null,
      "metadata": {
        "colab": {
          "base_uri": "https://localhost:8080/"
        },
        "id": "Vi25Z7lFPPjc",
        "outputId": "f6c9b902-5443-4e6d-d1db-7000369aac56"
      },
      "outputs": [
        {
          "name": "stderr",
          "output_type": "stream",
          "text": [
            "100%|██████████| 543/543 [00:09<00:00, 56.07it/s]"
          ]
        },
        {
          "name": "stdout",
          "output_type": "stream",
          "text": [
            "\n",
            "Validation AUC: 0.8969\n"
          ]
        },
        {
          "name": "stderr",
          "output_type": "stream",
          "text": [
            "\n"
          ]
        }
      ],
      "source": [
        "from sklearn.metrics import roc_auc_score\n",
        "\n",
        "\n",
        "preds = []\n",
        "ground_truths = []\n",
        "for sampled_data in tqdm.tqdm(val_loader):\n",
        "    with torch.no_grad():\n",
        "        # Business data to device\n",
        "        \n",
        "        sampled_data.to(device)\n",
        "        preds.append(model(sampled_data))\n",
        "        ground_truths.append(sampled_data[\"user_id\", \"stars\", \"business_id\"].edge_label)\n",
        "\n",
        "pred = torch.cat(preds, dim=0).cpu().numpy()\n",
        "ground_truth = torch.cat(ground_truths, dim=0).cpu().numpy()\n",
        "auc = roc_auc_score(ground_truth, pred)\n",
        "print()\n",
        "print(f\"Validation AUC: {auc:.4f}\")"
      ]
    },
    {
      "cell_type": "markdown",
      "metadata": {
        "id": "6bMO66pLWzzz"
      },
      "source": [
        "metodo con learning curve separato"
      ]
    },
    {
      "cell_type": "code",
      "execution_count": null,
      "metadata": {
        "colab": {
          "background_save": true,
          "base_uri": "https://localhost:8080/"
        },
        "id": "VT8wUYxTfGsi",
        "outputId": "c5a035ce-f45b-4520-b8ea-9b649c2abfcb"
      },
      "outputs": [
        {
          "name": "stdout",
          "output_type": "stream",
          "text": [
            "Device: 'cpu'\n"
          ]
        },
        {
          "name": "stderr",
          "output_type": "stream",
          "text": [
            "100%|██████████| 1303/1303 [05:31<00:00,  3.93it/s]\n"
          ]
        },
        {
          "name": "stdout",
          "output_type": "stream",
          "text": [
            "Epoch: 001, Train Loss: 0.4324\n"
          ]
        },
        {
          "name": "stderr",
          "output_type": "stream",
          "text": [
            "100%|██████████| 543/543 [00:26<00:00, 20.40it/s]\n"
          ]
        },
        {
          "name": "stdout",
          "output_type": "stream",
          "text": [
            "Epoch: 001, Val Loss: 0.3905\n"
          ]
        },
        {
          "name": "stderr",
          "output_type": "stream",
          "text": [
            "100%|██████████| 1303/1303 [05:01<00:00,  4.32it/s]\n"
          ]
        },
        {
          "name": "stdout",
          "output_type": "stream",
          "text": [
            "Epoch: 002, Train Loss: 0.3680\n"
          ]
        },
        {
          "name": "stderr",
          "output_type": "stream",
          "text": [
            "100%|██████████| 543/543 [00:26<00:00, 20.85it/s]\n"
          ]
        },
        {
          "name": "stdout",
          "output_type": "stream",
          "text": [
            "Epoch: 002, Val Loss: 0.3692\n"
          ]
        },
        {
          "name": "stderr",
          "output_type": "stream",
          "text": [
            "100%|██████████| 1303/1303 [05:12<00:00,  4.17it/s]\n"
          ]
        },
        {
          "name": "stdout",
          "output_type": "stream",
          "text": [
            "Epoch: 003, Train Loss: 0.3528\n"
          ]
        },
        {
          "name": "stderr",
          "output_type": "stream",
          "text": [
            "100%|██████████| 543/543 [00:26<00:00, 20.88it/s]\n"
          ]
        },
        {
          "name": "stdout",
          "output_type": "stream",
          "text": [
            "Epoch: 003, Val Loss: 0.3796\n"
          ]
        },
        {
          "name": "stderr",
          "output_type": "stream",
          "text": [
            "100%|██████████| 1303/1303 [05:18<00:00,  4.09it/s]\n"
          ]
        },
        {
          "name": "stdout",
          "output_type": "stream",
          "text": [
            "Epoch: 004, Train Loss: 0.3401\n"
          ]
        },
        {
          "name": "stderr",
          "output_type": "stream",
          "text": [
            "100%|██████████| 543/543 [00:25<00:00, 20.89it/s]\n"
          ]
        },
        {
          "name": "stdout",
          "output_type": "stream",
          "text": [
            "Epoch: 004, Val Loss: 0.3810\n"
          ]
        },
        {
          "name": "stderr",
          "output_type": "stream",
          "text": [
            "100%|██████████| 1303/1303 [05:18<00:00,  4.09it/s]\n"
          ]
        },
        {
          "name": "stdout",
          "output_type": "stream",
          "text": [
            "Epoch: 005, Train Loss: 0.3244\n"
          ]
        },
        {
          "name": "stderr",
          "output_type": "stream",
          "text": [
            "100%|██████████| 543/543 [00:25<00:00, 21.53it/s]\n"
          ]
        },
        {
          "name": "stdout",
          "output_type": "stream",
          "text": [
            "Epoch: 005, Val Loss: 0.3860\n"
          ]
        },
        {
          "name": "stderr",
          "output_type": "stream",
          "text": [
            "100%|██████████| 1303/1303 [05:09<00:00,  4.21it/s]\n"
          ]
        },
        {
          "name": "stdout",
          "output_type": "stream",
          "text": [
            "Epoch: 006, Train Loss: 0.3065\n"
          ]
        },
        {
          "name": "stderr",
          "output_type": "stream",
          "text": [
            "100%|██████████| 543/543 [00:25<00:00, 21.38it/s]\n"
          ]
        },
        {
          "name": "stdout",
          "output_type": "stream",
          "text": [
            "Epoch: 006, Val Loss: 0.4158\n"
          ]
        },
        {
          "name": "stderr",
          "output_type": "stream",
          "text": [
            "100%|██████████| 1303/1303 [05:17<00:00,  4.10it/s]\n"
          ]
        },
        {
          "name": "stdout",
          "output_type": "stream",
          "text": [
            "Epoch: 007, Train Loss: 0.2876\n"
          ]
        },
        {
          "name": "stderr",
          "output_type": "stream",
          "text": [
            "100%|██████████| 543/543 [00:24<00:00, 21.83it/s]\n"
          ]
        },
        {
          "name": "stdout",
          "output_type": "stream",
          "text": [
            "Epoch: 007, Val Loss: 0.4515\n"
          ]
        },
        {
          "name": "stderr",
          "output_type": "stream",
          "text": [
            "100%|██████████| 1303/1303 [05:19<00:00,  4.07it/s]\n"
          ]
        },
        {
          "name": "stdout",
          "output_type": "stream",
          "text": [
            "Epoch: 008, Train Loss: 0.2673\n"
          ]
        },
        {
          "name": "stderr",
          "output_type": "stream",
          "text": [
            "100%|██████████| 543/543 [00:25<00:00, 20.98it/s]\n"
          ]
        },
        {
          "name": "stdout",
          "output_type": "stream",
          "text": [
            "Epoch: 008, Val Loss: 0.4586\n"
          ]
        },
        {
          "name": "stderr",
          "output_type": "stream",
          "text": [
            "100%|██████████| 1303/1303 [05:08<00:00,  4.22it/s]\n"
          ]
        },
        {
          "name": "stdout",
          "output_type": "stream",
          "text": [
            "Epoch: 009, Train Loss: 0.2495\n"
          ]
        },
        {
          "name": "stderr",
          "output_type": "stream",
          "text": [
            "100%|██████████| 543/543 [00:25<00:00, 21.46it/s]\n"
          ]
        },
        {
          "name": "stdout",
          "output_type": "stream",
          "text": [
            "Epoch: 009, Val Loss: 0.4966\n"
          ]
        },
        {
          "name": "stderr",
          "output_type": "stream",
          "text": [
            "100%|██████████| 1303/1303 [05:18<00:00,  4.09it/s]\n"
          ]
        },
        {
          "name": "stdout",
          "output_type": "stream",
          "text": [
            "Epoch: 010, Train Loss: 0.2317\n"
          ]
        },
        {
          "name": "stderr",
          "output_type": "stream",
          "text": [
            "100%|██████████| 543/543 [00:25<00:00, 21.08it/s]\n"
          ]
        },
        {
          "name": "stdout",
          "output_type": "stream",
          "text": [
            "Epoch: 010, Val Loss: 0.5537\n"
          ]
        },
        {
          "name": "stderr",
          "output_type": "stream",
          "text": [
            " 60%|█████▉    | 777/1303 [03:05<02:02,  4.28it/s]"
          ]
        }
      ],
      "source": [
        "import matplotlib.pyplot as plt\n",
        "import tqdm\n",
        "\n",
        "device = torch.device('cuda' if torch.cuda.is_available() else 'cpu')\n",
        "print(f\"Device: '{device}'\")\n",
        "\n",
        "model = model.to(device)\n",
        "optimizer = torch.optim.Adam(model.parameters(), lr=0.001)\n",
        "\n",
        "# Initialize lists to store loss and epoch values\n",
        "train_losses = []\n",
        "val_losses = []\n",
        "epochs = []\n",
        "\n",
        "# Train loop\n",
        "for epoch in range(1, 9):\n",
        "    total_loss = total_examples = 0\n",
        "    for sampled_data in tqdm.tqdm(train_loader):\n",
        "        optimizer.zero_grad()\n",
        "\n",
        "        # Move `sampled_data` to the respective `device`\n",
        "        sampled_data.to(device)\n",
        "\n",
        "        # Run `forward` pass of the model\n",
        "        pred = model(sampled_data)\n",
        "\n",
        "        ground_truth = sampled_data[\"user_id\", \"stars\", \"business_id\"].edge_label\n",
        "\n",
        "        # Apply binary cross entropy via `F.binary_cross_entropy_with_logits(pred, ground_truth)`\n",
        "        loss = F.binary_cross_entropy_with_logits(pred, ground_truth)\n",
        "\n",
        "        loss.backward()\n",
        "        optimizer.step()\n",
        "        total_loss += float(loss) * pred.numel()\n",
        "        total_examples += pred.numel()\n",
        "\n",
        "    # Save the training loss and epoch values\n",
        "    train_losses.append(total_loss / total_examples)\n",
        "    epochs.append(epoch)\n",
        "\n",
        "    print(f\"Epoch: {epoch:03d}, Train Loss: {total_loss / total_examples:.4f}\")\n",
        "\n",
        "    # Validation loop\n",
        "    val_loss = 0\n",
        "    val_examples = 0\n",
        "    with torch.no_grad():\n",
        "        for val_sampled_data1 in tqdm.tqdm(val_loader):\n",
        "            # Move `val_sampled_data` to the respective `device`\n",
        "            val_sampled_data1.to(device)\n",
        "\n",
        "            # Run `forward` pass of the model\n",
        "            val_pred = model(val_sampled_data1)\n",
        "\n",
        "            val_ground_truth = val_sampled_data1[\"user_id\", \"stars\", \"business_id\"].edge_label\n",
        "\n",
        "            # Apply binary cross entropy via `F.binary_cross_entropy_with_logits(val_pred, val_ground_truth)`\n",
        "            val_loss += F.binary_cross_entropy_with_logits(val_pred, val_ground_truth).item() * val_pred.numel()\n",
        "            val_examples += val_pred.numel()\n",
        "\n",
        "    # Save the validation loss\n",
        "    val_losses.append(val_loss / val_examples)\n",
        "\n",
        "    print(f\"Epoch: {epoch:03d}, Val Loss: {val_loss / val_examples:.4f}\")\n",
        "\n",
        "\n"
      ]
    },
    {
      "cell_type": "markdown",
      "metadata": {
        "id": "GXzI4FgQlC63"
      },
      "source": [
        "Implemento epoche su AUC"
      ]
    },
    {
      "cell_type": "code",
      "execution_count": null,
      "metadata": {
        "colab": {
          "base_uri": "https://localhost:8080/",
          "height": 467
        },
        "id": "COWgJBAfq_Im",
        "outputId": "9935839d-e234-4a5d-dab8-f357a65b90a7"
      },
      "outputs": [
        {
          "output_type": "stream",
          "name": "stdout",
          "text": [
            "Device: 'cuda'\n"
          ]
        },
        {
          "output_type": "stream",
          "name": "stderr",
          "text": [
            "  0%|          | 0/1303 [00:00<?, ?it/s]\n"
          ]
        },
        {
          "output_type": "error",
          "ename": "RuntimeError",
          "evalue": "ignored",
          "traceback": [
            "\u001b[0;31m---------------------------------------------------------------------------\u001b[0m",
            "\u001b[0;31mRuntimeError\u001b[0m                              Traceback (most recent call last)",
            "\u001b[0;32m<ipython-input-23-2e4551f6837b>\u001b[0m in \u001b[0;36m<cell line: 20>\u001b[0;34m()\u001b[0m\n\u001b[1;32m     26\u001b[0m \u001b[0;34m\u001b[0m\u001b[0m\n\u001b[1;32m     27\u001b[0m         \u001b[0;31m# Move `sampled_data` to the respective `device`\u001b[0m\u001b[0;34m\u001b[0m\u001b[0;34m\u001b[0m\u001b[0m\n\u001b[0;32m---> 28\u001b[0;31m         \u001b[0msampled_data\u001b[0m\u001b[0;34m.\u001b[0m\u001b[0mto\u001b[0m\u001b[0;34m(\u001b[0m\u001b[0mdevice\u001b[0m\u001b[0;34m)\u001b[0m\u001b[0;34m\u001b[0m\u001b[0;34m\u001b[0m\u001b[0m\n\u001b[0m\u001b[1;32m     29\u001b[0m \u001b[0;34m\u001b[0m\u001b[0m\n\u001b[1;32m     30\u001b[0m         \u001b[0;31m# Run `forward` pass of the model\u001b[0m\u001b[0;34m\u001b[0m\u001b[0;34m\u001b[0m\u001b[0m\n",
            "\u001b[0;32m/usr/local/lib/python3.10/dist-packages/torch_geometric/data/data.py\u001b[0m in \u001b[0;36mto\u001b[0;34m(self, device, non_blocking, *args)\u001b[0m\n\u001b[1;32m    260\u001b[0m         r\"\"\"Performs tensor device conversion, either for all attributes or\n\u001b[1;32m    261\u001b[0m         only the ones given in :obj:`*args`.\"\"\"\n\u001b[0;32m--> 262\u001b[0;31m         return self.apply(\n\u001b[0m\u001b[1;32m    263\u001b[0m             lambda x: x.to(device=device, non_blocking=non_blocking), *args)\n\u001b[1;32m    264\u001b[0m \u001b[0;34m\u001b[0m\u001b[0m\n",
            "\u001b[0;32m/usr/local/lib/python3.10/dist-packages/torch_geometric/data/data.py\u001b[0m in \u001b[0;36mapply\u001b[0;34m(self, func, *args)\u001b[0m\n\u001b[1;32m    243\u001b[0m         the ones given in :obj:`*args`.\"\"\"\n\u001b[1;32m    244\u001b[0m         \u001b[0;32mfor\u001b[0m \u001b[0mstore\u001b[0m \u001b[0;32min\u001b[0m \u001b[0mself\u001b[0m\u001b[0;34m.\u001b[0m\u001b[0mstores\u001b[0m\u001b[0;34m:\u001b[0m\u001b[0;34m\u001b[0m\u001b[0;34m\u001b[0m\u001b[0m\n\u001b[0;32m--> 245\u001b[0;31m             \u001b[0mstore\u001b[0m\u001b[0;34m.\u001b[0m\u001b[0mapply\u001b[0m\u001b[0;34m(\u001b[0m\u001b[0mfunc\u001b[0m\u001b[0;34m,\u001b[0m \u001b[0;34m*\u001b[0m\u001b[0margs\u001b[0m\u001b[0;34m)\u001b[0m\u001b[0;34m\u001b[0m\u001b[0;34m\u001b[0m\u001b[0m\n\u001b[0m\u001b[1;32m    246\u001b[0m         \u001b[0;32mreturn\u001b[0m \u001b[0mself\u001b[0m\u001b[0;34m\u001b[0m\u001b[0;34m\u001b[0m\u001b[0m\n\u001b[1;32m    247\u001b[0m \u001b[0;34m\u001b[0m\u001b[0m\n",
            "\u001b[0;32m/usr/local/lib/python3.10/dist-packages/torch_geometric/data/storage.py\u001b[0m in \u001b[0;36mapply\u001b[0;34m(self, func, *args)\u001b[0m\n\u001b[1;32m    182\u001b[0m         the ones given in :obj:`*args`.\"\"\"\n\u001b[1;32m    183\u001b[0m         \u001b[0;32mfor\u001b[0m \u001b[0mkey\u001b[0m\u001b[0;34m,\u001b[0m \u001b[0mvalue\u001b[0m \u001b[0;32min\u001b[0m \u001b[0mself\u001b[0m\u001b[0;34m.\u001b[0m\u001b[0mitems\u001b[0m\u001b[0;34m(\u001b[0m\u001b[0;34m*\u001b[0m\u001b[0margs\u001b[0m\u001b[0;34m)\u001b[0m\u001b[0;34m:\u001b[0m\u001b[0;34m\u001b[0m\u001b[0;34m\u001b[0m\u001b[0m\n\u001b[0;32m--> 184\u001b[0;31m             \u001b[0mself\u001b[0m\u001b[0;34m[\u001b[0m\u001b[0mkey\u001b[0m\u001b[0;34m]\u001b[0m \u001b[0;34m=\u001b[0m \u001b[0mrecursive_apply\u001b[0m\u001b[0;34m(\u001b[0m\u001b[0mvalue\u001b[0m\u001b[0;34m,\u001b[0m \u001b[0mfunc\u001b[0m\u001b[0;34m)\u001b[0m\u001b[0;34m\u001b[0m\u001b[0;34m\u001b[0m\u001b[0m\n\u001b[0m\u001b[1;32m    185\u001b[0m         \u001b[0;32mreturn\u001b[0m \u001b[0mself\u001b[0m\u001b[0;34m\u001b[0m\u001b[0;34m\u001b[0m\u001b[0m\n\u001b[1;32m    186\u001b[0m \u001b[0;34m\u001b[0m\u001b[0m\n",
            "\u001b[0;32m/usr/local/lib/python3.10/dist-packages/torch_geometric/data/storage.py\u001b[0m in \u001b[0;36mrecursive_apply\u001b[0;34m(data, func)\u001b[0m\n\u001b[1;32m    686\u001b[0m \u001b[0;32mdef\u001b[0m \u001b[0mrecursive_apply\u001b[0m\u001b[0;34m(\u001b[0m\u001b[0mdata\u001b[0m\u001b[0;34m:\u001b[0m \u001b[0mAny\u001b[0m\u001b[0;34m,\u001b[0m \u001b[0mfunc\u001b[0m\u001b[0;34m:\u001b[0m \u001b[0mCallable\u001b[0m\u001b[0;34m)\u001b[0m \u001b[0;34m->\u001b[0m \u001b[0mAny\u001b[0m\u001b[0;34m:\u001b[0m\u001b[0;34m\u001b[0m\u001b[0;34m\u001b[0m\u001b[0m\n\u001b[1;32m    687\u001b[0m     \u001b[0;32mif\u001b[0m \u001b[0misinstance\u001b[0m\u001b[0;34m(\u001b[0m\u001b[0mdata\u001b[0m\u001b[0;34m,\u001b[0m \u001b[0mTensor\u001b[0m\u001b[0;34m)\u001b[0m\u001b[0;34m:\u001b[0m\u001b[0;34m\u001b[0m\u001b[0;34m\u001b[0m\u001b[0m\n\u001b[0;32m--> 688\u001b[0;31m         \u001b[0;32mreturn\u001b[0m \u001b[0mfunc\u001b[0m\u001b[0;34m(\u001b[0m\u001b[0mdata\u001b[0m\u001b[0;34m)\u001b[0m\u001b[0;34m\u001b[0m\u001b[0;34m\u001b[0m\u001b[0m\n\u001b[0m\u001b[1;32m    689\u001b[0m     \u001b[0;32melif\u001b[0m \u001b[0misinstance\u001b[0m\u001b[0;34m(\u001b[0m\u001b[0mdata\u001b[0m\u001b[0;34m,\u001b[0m \u001b[0mtorch\u001b[0m\u001b[0;34m.\u001b[0m\u001b[0mnn\u001b[0m\u001b[0;34m.\u001b[0m\u001b[0mutils\u001b[0m\u001b[0;34m.\u001b[0m\u001b[0mrnn\u001b[0m\u001b[0;34m.\u001b[0m\u001b[0mPackedSequence\u001b[0m\u001b[0;34m)\u001b[0m\u001b[0;34m:\u001b[0m\u001b[0;34m\u001b[0m\u001b[0;34m\u001b[0m\u001b[0m\n\u001b[1;32m    690\u001b[0m         \u001b[0;32mreturn\u001b[0m \u001b[0mfunc\u001b[0m\u001b[0;34m(\u001b[0m\u001b[0mdata\u001b[0m\u001b[0;34m)\u001b[0m\u001b[0;34m\u001b[0m\u001b[0;34m\u001b[0m\u001b[0m\n",
            "\u001b[0;32m/usr/local/lib/python3.10/dist-packages/torch_geometric/data/data.py\u001b[0m in \u001b[0;36m<lambda>\u001b[0;34m(x)\u001b[0m\n\u001b[1;32m    261\u001b[0m         only the ones given in :obj:`*args`.\"\"\"\n\u001b[1;32m    262\u001b[0m         return self.apply(\n\u001b[0;32m--> 263\u001b[0;31m             lambda x: x.to(device=device, non_blocking=non_blocking), *args)\n\u001b[0m\u001b[1;32m    264\u001b[0m \u001b[0;34m\u001b[0m\u001b[0m\n\u001b[1;32m    265\u001b[0m     \u001b[0;32mdef\u001b[0m \u001b[0mcpu\u001b[0m\u001b[0;34m(\u001b[0m\u001b[0mself\u001b[0m\u001b[0;34m,\u001b[0m \u001b[0;34m*\u001b[0m\u001b[0margs\u001b[0m\u001b[0;34m:\u001b[0m \u001b[0mList\u001b[0m\u001b[0;34m[\u001b[0m\u001b[0mstr\u001b[0m\u001b[0;34m]\u001b[0m\u001b[0;34m)\u001b[0m\u001b[0;34m:\u001b[0m\u001b[0;34m\u001b[0m\u001b[0;34m\u001b[0m\u001b[0m\n",
            "\u001b[0;31mRuntimeError\u001b[0m: CUDA error: device-side assert triggered\nCUDA kernel errors might be asynchronously reported at some other API call, so the stacktrace below might be incorrect.\nFor debugging consider passing CUDA_LAUNCH_BLOCKING=1.\nCompile with `TORCH_USE_CUDA_DSA` to enable device-side assertions.\n"
          ]
        }
      ],
      "source": [
        "import matplotlib.pyplot as plt\n",
        "import tqdm\n",
        "from sklearn.metrics import roc_auc_score\n",
        "from sklearn.metrics import roc_curve\n",
        "\n",
        "device = torch.device('cuda' if torch.cuda.is_available() else 'cpu')\n",
        "print(f\"Device: '{device}'\")\n",
        "\n",
        "model = model.to(device)\n",
        "optimizer = torch.optim.Adam(model.parameters(), lr=0.0005)\n",
        "\n",
        "# Initialize lists to store loss and epoch values\n",
        "train_losses = []\n",
        "val_losses = []\n",
        "train_auc_scores = []\n",
        "val_auc_scores = []\n",
        "epochs = []\n",
        "\n",
        "# Train loop\n",
        "for epoch in range(1, 10):\n",
        "    total_loss = total_examples = 0\n",
        "    train_preds = []\n",
        "    train_labels = []\n",
        "    for sampled_data in tqdm.tqdm(train_loader):\n",
        "        optimizer.zero_grad()\n",
        "\n",
        "        # Move `sampled_data` to the respective `device`\n",
        "        sampled_data.to(device)\n",
        "\n",
        "        # Run `forward` pass of the model\n",
        "        pred = model(sampled_data)\n",
        "\n",
        "        ground_truth = sampled_data[\"user_id\", \"stars\", \"business_id\"].edge_label\n",
        "\n",
        "        # Apply binary cross entropy via `F.binary_cross_entropy_with_logits(pred, ground_truth)`\n",
        "        loss = F.binary_cross_entropy_with_logits(pred, ground_truth)\n",
        "\n",
        "        loss.backward()\n",
        "        optimizer.step()\n",
        "        total_loss += float(loss) * pred.numel()\n",
        "        total_examples += pred.numel()\n",
        "\n",
        "        # Append predicted and ground truth labels for calculating AUC\n",
        "        train_preds += list(pred.cpu().detach().numpy())\n",
        "        train_labels += list(ground_truth.cpu().detach().numpy())\n",
        "\n",
        "    # Save the training loss and epoch values\n",
        "    train_losses.append(total_loss / total_examples)\n",
        "    epochs.append(epoch)\n",
        "\n",
        "    # Calculate and save AUC score for training set\n",
        "    train_auc = roc_auc_score(train_labels, train_preds)\n",
        "    train_auc_scores.append(train_auc)\n",
        "\n",
        "    print(f\"Epoch: {epoch:03d}, Train Loss: {total_loss / total_examples:.4f}, Train AUC: {train_auc:.4f}\")\n",
        "\n",
        "    # Validation loop\n",
        "    val_loss = 0\n",
        "    val_examples = 0\n",
        "    val_preds = []\n",
        "    val_labels = []\n",
        "    with torch.no_grad():\n",
        "        for val_sampled_data1 in tqdm.tqdm(val_loader):\n",
        "            # Move `val_sampled_data` to the respective `device`\n",
        "            val_sampled_data1.to(device)\n",
        "\n",
        "            # Run `forward` pass of the model\n",
        "            val_pred = model(val_sampled_data1)\n",
        "\n",
        "            val_ground_truth = val_sampled_data1[\"user_id\", \"stars\", \"business_id\"].edge_label\n",
        "\n",
        "            # Apply binary cross entropy via `F.binary_cross_entropy_with_logits(val_pred, val_ground_truth)`\n",
        "            val_loss += F.binary_cross_entropy_with_logits(val_pred, val_ground_truth).item() * val_pred.numel()\n",
        "            val_examples += val_pred.numel()\n",
        "\n",
        "            # Append predicted and ground truth labels for calculating AUC\n",
        "            val_preds += list(val_pred.cpu().detach().numpy())\n",
        "            val_labels += list(val_ground_truth.cpu().detach().numpy())\n",
        "\n",
        "    # Save the validation loss\n",
        "    val_losses.append(val_loss / val_examples)\n",
        "\n",
        "    # Calculate and save AUC score for validation set\n",
        "    val_auc = roc_auc_score(val_labels, val_preds)\n",
        "    val_auc_scores.append(val_auc)\n",
        "\n",
        "    print(f\"Epoch: {epoch:03d}, Val Loss: {val_loss / val_examples:.4f}, Val AUC: {val_auc:.4f}\")\n",
        "\n"
      ]
    },
    {
      "cell_type": "code",
      "execution_count": null,
      "metadata": {
        "colab": {
          "base_uri": "https://localhost:8080/",
          "height": 472
        },
        "id": "f75iyRiDIlqm",
        "outputId": "4cfd4a1f-99d6-4254-9f36-8c5aa6d2ddf4"
      },
      "outputs": [
        {
          "data": {
            "image/png": "[encoded data removed]",
            "text/plain": [
              "<Figure size 640x480 with 1 Axes>"
            ]
          },
          "metadata": {},
          "output_type": "display_data"
        }
      ],
      "source": [
        "# Plot the learning curve\n",
        "plt.plot(epochs, train_losses,\"o-\", color=\"red\" ,label='Training Loss')\n",
        "plt.plot(epochs, val_losses, \"o-\", color=\"g\",label='Validation Loss')\n",
        "plt.xlabel('Epochs')\n",
        "plt.ylabel('Loss')\n",
        "plt.title('Learning curve')\n",
        "plt.legend()\n",
        "plt.show()"
      ]
    },
    {
      "cell_type": "code",
      "execution_count": null,
      "metadata": {
        "colab": {
          "base_uri": "https://localhost:8080/",
          "height": 872
        },
        "id": "rOhfI6imsi5B",
        "outputId": "83e38382-ba9e-4872-d30a-a2c92cb72f75"
      },
      "outputs": [
        {
          "data": {
            "image/png": "[encoded data removed]",
            "text/plain": [
              "<Figure size 1000x1000 with 2 Axes>"
            ]
          },
          "metadata": {},
          "output_type": "display_data"
        }
      ],
      "source": [
        "# Plot the train and validation losses and AUC scores\n",
        "\n",
        "fig, axs = plt.subplots(2, figsize=(10, 10))\n",
        "axs[0].plot(epochs, train_losses, label=\"Train Loss\")\n",
        "axs[0].plot(epochs, val_losses, label=\"Val Loss\")\n",
        "axs[0].set_title(\"Train vs Val Loss\")\n",
        "axs[0].set_xlabel(\"Epoch\")\n",
        "axs[0].set_ylabel(\"Loss\")\n",
        "axs[0].legend()\n",
        "\n",
        "axs[1].plot(epochs, train_auc_scores, label=\"Train AUC\")\n",
        "axs[1].plot(epochs, val_auc_scores, label=\"Val AUC\")\n",
        "axs[1].set_title(\"Train vs Val AUC\")\n",
        "axs[1].set_xlabel(\"Epoch\")\n",
        "axs[1].set_ylabel(\"AUC Score\")\n",
        "axs[1].legend()\n",
        "\n",
        "plt.show()"
      ]
    },
    {
      "cell_type": "markdown",
      "metadata": {
        "id": "5JLNxdO7zogl"
      },
      "source": [
        "Provo fine-tuning"
      ]
    },
    {
      "cell_type": "code",
      "execution_count": null,
      "metadata": {
        "id": "TX4Qag2Nznwo"
      },
      "outputs": [],
      "source": [
        "# Define the parameter space to explore\n",
        "learning_rates = [0.1, 0.01, 0.001, 0.0001]\n",
        "\n",
        "num_neurons_per_layer = [32, 64,128]\n",
        "\n",
        "# Initialize the lists to store the results\n",
        "best_params = None\n",
        "best_val_loss = float('inf')\n",
        "train_losses = []\n",
        "val_losses = []\n",
        "\n",
        "# Loop over all the possible combinations of the parameters\n",
        "for lr in learning_rates:\n",
        "    for nn in num_neurons_per_layer:\n",
        "            # Define the model\n",
        "            model = Model(hidden_channels=nn)\n",
        "            model.to(device)\n",
        "\n",
        "            # Define the optimizer\n",
        "            optimizer = torch.optim.Adam(model.parameters(), lr=lr)\n",
        "\n",
        "            # Train loop\n",
        "            for epoch in range(1, 5):\n",
        "                total_loss = total_examples = 0\n",
        "                for sampled_data in tqdm.tqdm(train_loader):\n",
        "                    optimizer.zero_grad()\n",
        "\n",
        "                    # Move `sampled_data` to the respective `device`\n",
        "                    sampled_data.to(device)\n",
        "\n",
        "                    # Run `forward` pass of the model\n",
        "                    pred = model(sampled_data)\n",
        "\n",
        "                    ground_truth = sampled_data.edge_label\n",
        "\n",
        "                    # Apply binary cross entropy via `F.binary_cross_entropy_with_logits(pred, ground_truth)`\n",
        "                    loss = F.binary_cross_entropy_with_logits(pred, ground_truth)\n",
        "\n",
        "                    loss.backward()\n",
        "                    optimizer.step()\n",
        "                    total_loss += float(loss) * pred.numel()\n",
        "                    total_examples += pred.numel()\n",
        "\n",
        "                # Save the training loss and epoch values\n",
        "                train_losses.append(total_loss / total_examples)\n",
        "\n",
        "                # Validation loop\n",
        "                val_loss = 0\n",
        "                val_examples = 0\n",
        "                with torch.no_grad():\n",
        "                    for val_sampled_data1 in tqdm.tqdm(val_loader):\n",
        "                        # Move `val_sampled_data` to the respective `device`\n",
        "                        val_sampled_data1.to(device)\n",
        "\n",
        "                        # Run `forward` pass of the model\n",
        "                        val_pred = model(val_sampled_data1)\n",
        "\n",
        "                        val_ground_truth = val_sampled_data1.edge_label\n",
        "\n",
        "                        # Apply binary cross entropy via `F.binary_cross_entropy_with_logits(val_pred, val_ground_truth)`\n",
        "                        val_loss += F.binary_cross_entropy_with_logits(val_pred, val_ground_truth).item() * val_pred.numel()\n",
        "                        val_examples += val_pred.numel()\n",
        "\n",
        "                # Save the validation loss\n",
        "                val_losses.append(val_loss / val_examples)\n",
        "\n",
        "                # Check if the current parameters are the best so far\n",
        "                if val_losses[-1] < best_val_loss:\n",
        "                    best_val_loss = val_losses[-1]\n",
        "                    best_params = {'lr': lr,'nn': nn}\n",
        "\n",
        "            print(f\"Learning rate: {lr}, Num hidden layers: {nl}, Num neurons per layer: {nn}\")\n",
        "            print(f\"Training loss: {train_losses[-1]}, Validation loss: {val_losses[-1]}\")\n",
        "\n",
        "print(f\"Best parameters: {best_params}, Best validation loss: {best_val_loss}\")\n"
      ]
    },
    {
      "cell_type": "markdown",
      "metadata": {
        "id": "OaEb2T48Imo8"
      },
      "source": [
        "Faccio su test set"
      ]
    },
    {
      "cell_type": "code",
      "execution_count": null,
      "metadata": {
        "colab": {
          "base_uri": "https://localhost:8080/"
        },
        "id": "PP82aKbd3-DE",
        "outputId": "72e670b0-fcd3-4a0e-b9d9-54e006acaa17"
      },
      "outputs": [
        {
          "name": "stdout",
          "output_type": "stream",
          "text": [
            "Sampled mini-batch:\n",
            "===================\n",
            "HeteroData(\n",
            "  \u001b[1muser_id\u001b[0m={\n",
            "    node_id=[11532],\n",
            "    n_id=[11532]\n",
            "  },\n",
            "  \u001b[1mbusiness_id\u001b[0m={\n",
            "    node_id=[4661],\n",
            "    x=[4661, 957],\n",
            "    n_id=[4661]\n",
            "  },\n",
            "  \u001b[1m(user_id, stars, business_id)\u001b[0m={\n",
            "    edge_index=[2, 13501],\n",
            "    edge_label=[384],\n",
            "    edge_label_index=[2, 384],\n",
            "    e_id=[13501],\n",
            "    input_id=[128]\n",
            "  },\n",
            "  \u001b[1m(business_id, rev_stars, user_id)\u001b[0m={\n",
            "    edge_index=[2, 24823],\n",
            "    e_id=[24823]\n",
            "  }\n",
            ")\n"
          ]
        }
      ],
      "source": [
        "# Define the test seed edges:\n",
        "edge_label_index = test_data[\"user_id\", \"stars\", \"business_id\"].edge_label_index\n",
        "edge_label = test_data[\"user_id\", \"stars\", \"business_id\"].edge_label\n",
        "\n",
        "test_loader = LinkNeighborLoader(\n",
        "    data=test_data,\n",
        "    num_neighbors=[20, 10],\n",
        "    edge_label_index=((\"user_id\", \"stars\", \"business_id\"), edge_label_index),\n",
        "    edge_label=edge_label,\n",
        "    batch_size=3*128,\n",
        "    shuffle=False,\n",
        ")\n",
        "\n",
        "sampled_data2 = next(iter(test_loader))\n",
        "\n",
        "print(\"Sampled mini-batch:\")\n",
        "print(\"===================\")\n",
        "print(sampled_data)\n",
        "\n",
        "\n",
        "assert sampled_data2[\"user_id\", \"stars\", \"business_id\"].edge_label_index.size(1) == 3*128\n",
        "assert sampled_data2[\"user_id\", \"stars\", \"business_id\"].edge_label.min() >= 0\n",
        "assert sampled_data2[\"user_id\", \"stars\", \"business_id\"].edge_label.max() <= 1"
      ]
    },
    {
      "cell_type": "code",
      "execution_count": null,
      "metadata": {
        "colab": {
          "base_uri": "https://localhost:8080/"
        },
        "id": "KQiuV-R94ZEC",
        "outputId": "c5ba8509-7fc4-46fc-9ba0-947393de3a07"
      },
      "outputs": [
        {
          "name": "stderr",
          "output_type": "stream",
          "text": [
            "100%|██████████| 543/543 [00:41<00:00, 12.97it/s]\n"
          ]
        },
        {
          "name": "stdout",
          "output_type": "stream",
          "text": [
            "\n",
            "Test AUC: 0.8920\n"
          ]
        }
      ],
      "source": [
        "\n",
        "\n",
        "preds = []\n",
        "ground_truths = []\n",
        "for sampled_data2 in tqdm.tqdm(test_loader):\n",
        "    with torch.no_grad():\n",
        "        # Business data to device\n",
        "        \n",
        "        sampled_data2.to(device)\n",
        "        preds.append(model(sampled_data2))\n",
        "        ground_truths.append(sampled_data2[\"user_id\", \"stars\", \"business_id\"].edge_label)\n",
        "\n",
        "pred = torch.cat(preds, dim=0).cpu().numpy()\n",
        "ground_truth = torch.cat(ground_truths, dim=0).cpu().numpy()\n",
        "auc = roc_auc_score(ground_truth, pred)\n",
        "print()\n",
        "print(f\"Test AUC: {auc:.4f}\")"
      ]
    },
    {
      "cell_type": "markdown",
      "metadata": {
        "id": "fzd3ySsmE57_"
      },
      "source": [
        "Visualizzo i risultati"
      ]
    },
    {
      "cell_type": "code",
      "execution_count": null,
      "metadata": {
        "colab": {
          "base_uri": "https://localhost:8080/"
        },
        "id": "WQNwxhUvBsQJ",
        "outputId": "05e7c255-8ba6-4b12-a3f2-5467e25ca396"
      },
      "outputs": [
        {
          "name": "stdout",
          "output_type": "stream",
          "text": [
            "              precision    recall  f1-score   support\n",
            "\n",
            "         0.0       0.83      0.94      0.88    138928\n",
            "         1.0       0.83      0.61      0.70     69464\n",
            "\n",
            "    accuracy                           0.83    208392\n",
            "   macro avg       0.83      0.77      0.79    208392\n",
            "weighted avg       0.83      0.83      0.82    208392\n",
            "\n"
          ]
        }
      ],
      "source": [
        "from sklearn.metrics import classification_report\n",
        "\n",
        "classification_report(ground_truth, (pred > 0.5).astype(int))\n",
        "\n",
        "print(classification_report(ground_truth, (pred > 0.5).astype(int)))"
      ]
    },
    {
      "cell_type": "code",
      "execution_count": null,
      "metadata": {
        "colab": {
          "base_uri": "https://localhost:8080/",
          "height": 472
        },
        "id": "QE8U3LzyCpa2",
        "outputId": "ab89d3fe-a1de-4681-fc2d-9bed8c64007f"
      },
      "outputs": [
        {
          "data": {
            "image/png": "[encoded data removed]",
            "text/plain": [
              "<Figure size 640x480 with 1 Axes>"
            ]
          },
          "metadata": {},
          "output_type": "display_data"
        }
      ],
      "source": [
        "import matplotlib.pyplot as plt\n",
        "from sklearn.metrics import roc_curve\n",
        "\n",
        "fpr, tpr, _ = roc_curve(ground_truth, pred)\n",
        "\n",
        "plt.plot(fpr, tpr, label='ROC curve (AUC = {:.2f})'.format(auc))\n",
        "plt.plot([0, 1], [0, 1],'r--')\n",
        "plt.xlabel('False Positive Rate')\n",
        "plt.ylabel('True Positive Rate')\n",
        "plt.title('ROC Curve')\n",
        "plt.legend()\n",
        "plt.xlim([-0.01, 1.01])\n",
        "plt.ylim([-0.01, 1.01])\n",
        "plt.show()"
      ]
    }
  ],
  "metadata": {
    "accelerator": "GPU",
    "colab": {
      "provenance": []
    },
    "gpuClass": "standard",
    "kernelspec": {
      "display_name": "Python 3",
      "name": "python3"
    },
    "language_info": {
      "name": "python"
    }
  },
  "nbformat": 4,
  "nbformat_minor": 0
}